{
  "nbformat": 4,
  "nbformat_minor": 0,
  "metadata": {
    "colab": {
      "provenance": []
    },
    "kernelspec": {
      "name": "python3",
      "display_name": "Python 3"
    },
    "language_info": {
      "name": "python"
    },
    "widgets": {
      "application/vnd.jupyter.widget-state+json": {
        "6140507d1f474186a6b9269debe35d6b": {
          "model_module": "@jupyter-widgets/controls",
          "model_name": "HBoxModel",
          "model_module_version": "1.5.0",
          "state": {
            "_dom_classes": [],
            "_model_module": "@jupyter-widgets/controls",
            "_model_module_version": "1.5.0",
            "_model_name": "HBoxModel",
            "_view_count": null,
            "_view_module": "@jupyter-widgets/controls",
            "_view_module_version": "1.5.0",
            "_view_name": "HBoxView",
            "box_style": "",
            "children": [
              "IPY_MODEL_854ba18340824153bce1ccf9ac49c06a",
              "IPY_MODEL_1b19af7c23574691941839fff5ce26df",
              "IPY_MODEL_28f17ebf88f1459a9d71b20d51fd919f"
            ],
            "layout": "IPY_MODEL_99d6889b58134173974e3b84d39712ae"
          }
        },
        "854ba18340824153bce1ccf9ac49c06a": {
          "model_module": "@jupyter-widgets/controls",
          "model_name": "HTMLModel",
          "model_module_version": "1.5.0",
          "state": {
            "_dom_classes": [],
            "_model_module": "@jupyter-widgets/controls",
            "_model_module_version": "1.5.0",
            "_model_name": "HTMLModel",
            "_view_count": null,
            "_view_module": "@jupyter-widgets/controls",
            "_view_module_version": "1.5.0",
            "_view_name": "HTMLView",
            "description": "",
            "description_tooltip": null,
            "layout": "IPY_MODEL_4174a43cf8f143328e5eab14fe1ebdea",
            "placeholder": "​",
            "style": "IPY_MODEL_0edfc2097b5d4b1383db6bea7b578cc8",
            "value": "Pandas Apply: 100%"
          }
        },
        "1b19af7c23574691941839fff5ce26df": {
          "model_module": "@jupyter-widgets/controls",
          "model_name": "FloatProgressModel",
          "model_module_version": "1.5.0",
          "state": {
            "_dom_classes": [],
            "_model_module": "@jupyter-widgets/controls",
            "_model_module_version": "1.5.0",
            "_model_name": "FloatProgressModel",
            "_view_count": null,
            "_view_module": "@jupyter-widgets/controls",
            "_view_module_version": "1.5.0",
            "_view_name": "ProgressView",
            "bar_style": "success",
            "description": "",
            "description_tooltip": null,
            "layout": "IPY_MODEL_2f8321d18efa41d4b3eec6480b619dad",
            "max": 251,
            "min": 0,
            "orientation": "horizontal",
            "style": "IPY_MODEL_0336980d1dd34d6f8919ec0b81dea619",
            "value": 251
          }
        },
        "28f17ebf88f1459a9d71b20d51fd919f": {
          "model_module": "@jupyter-widgets/controls",
          "model_name": "HTMLModel",
          "model_module_version": "1.5.0",
          "state": {
            "_dom_classes": [],
            "_model_module": "@jupyter-widgets/controls",
            "_model_module_version": "1.5.0",
            "_model_name": "HTMLModel",
            "_view_count": null,
            "_view_module": "@jupyter-widgets/controls",
            "_view_module_version": "1.5.0",
            "_view_name": "HTMLView",
            "description": "",
            "description_tooltip": null,
            "layout": "IPY_MODEL_76a9e5fb365342e28ea0419d1d3c62af",
            "placeholder": "​",
            "style": "IPY_MODEL_501b0291c4b54546a34db3d378959fe4",
            "value": " 251/251 [00:00&lt;00:00, 5984.51it/s]"
          }
        },
        "99d6889b58134173974e3b84d39712ae": {
          "model_module": "@jupyter-widgets/base",
          "model_name": "LayoutModel",
          "model_module_version": "1.2.0",
          "state": {
            "_model_module": "@jupyter-widgets/base",
            "_model_module_version": "1.2.0",
            "_model_name": "LayoutModel",
            "_view_count": null,
            "_view_module": "@jupyter-widgets/base",
            "_view_module_version": "1.2.0",
            "_view_name": "LayoutView",
            "align_content": null,
            "align_items": null,
            "align_self": null,
            "border": null,
            "bottom": null,
            "display": null,
            "flex": null,
            "flex_flow": null,
            "grid_area": null,
            "grid_auto_columns": null,
            "grid_auto_flow": null,
            "grid_auto_rows": null,
            "grid_column": null,
            "grid_gap": null,
            "grid_row": null,
            "grid_template_areas": null,
            "grid_template_columns": null,
            "grid_template_rows": null,
            "height": null,
            "justify_content": null,
            "justify_items": null,
            "left": null,
            "margin": null,
            "max_height": null,
            "max_width": null,
            "min_height": null,
            "min_width": null,
            "object_fit": null,
            "object_position": null,
            "order": null,
            "overflow": null,
            "overflow_x": null,
            "overflow_y": null,
            "padding": null,
            "right": null,
            "top": null,
            "visibility": null,
            "width": null
          }
        },
        "4174a43cf8f143328e5eab14fe1ebdea": {
          "model_module": "@jupyter-widgets/base",
          "model_name": "LayoutModel",
          "model_module_version": "1.2.0",
          "state": {
            "_model_module": "@jupyter-widgets/base",
            "_model_module_version": "1.2.0",
            "_model_name": "LayoutModel",
            "_view_count": null,
            "_view_module": "@jupyter-widgets/base",
            "_view_module_version": "1.2.0",
            "_view_name": "LayoutView",
            "align_content": null,
            "align_items": null,
            "align_self": null,
            "border": null,
            "bottom": null,
            "display": null,
            "flex": null,
            "flex_flow": null,
            "grid_area": null,
            "grid_auto_columns": null,
            "grid_auto_flow": null,
            "grid_auto_rows": null,
            "grid_column": null,
            "grid_gap": null,
            "grid_row": null,
            "grid_template_areas": null,
            "grid_template_columns": null,
            "grid_template_rows": null,
            "height": null,
            "justify_content": null,
            "justify_items": null,
            "left": null,
            "margin": null,
            "max_height": null,
            "max_width": null,
            "min_height": null,
            "min_width": null,
            "object_fit": null,
            "object_position": null,
            "order": null,
            "overflow": null,
            "overflow_x": null,
            "overflow_y": null,
            "padding": null,
            "right": null,
            "top": null,
            "visibility": null,
            "width": null
          }
        },
        "0edfc2097b5d4b1383db6bea7b578cc8": {
          "model_module": "@jupyter-widgets/controls",
          "model_name": "DescriptionStyleModel",
          "model_module_version": "1.5.0",
          "state": {
            "_model_module": "@jupyter-widgets/controls",
            "_model_module_version": "1.5.0",
            "_model_name": "DescriptionStyleModel",
            "_view_count": null,
            "_view_module": "@jupyter-widgets/base",
            "_view_module_version": "1.2.0",
            "_view_name": "StyleView",
            "description_width": ""
          }
        },
        "2f8321d18efa41d4b3eec6480b619dad": {
          "model_module": "@jupyter-widgets/base",
          "model_name": "LayoutModel",
          "model_module_version": "1.2.0",
          "state": {
            "_model_module": "@jupyter-widgets/base",
            "_model_module_version": "1.2.0",
            "_model_name": "LayoutModel",
            "_view_count": null,
            "_view_module": "@jupyter-widgets/base",
            "_view_module_version": "1.2.0",
            "_view_name": "LayoutView",
            "align_content": null,
            "align_items": null,
            "align_self": null,
            "border": null,
            "bottom": null,
            "display": null,
            "flex": null,
            "flex_flow": null,
            "grid_area": null,
            "grid_auto_columns": null,
            "grid_auto_flow": null,
            "grid_auto_rows": null,
            "grid_column": null,
            "grid_gap": null,
            "grid_row": null,
            "grid_template_areas": null,
            "grid_template_columns": null,
            "grid_template_rows": null,
            "height": null,
            "justify_content": null,
            "justify_items": null,
            "left": null,
            "margin": null,
            "max_height": null,
            "max_width": null,
            "min_height": null,
            "min_width": null,
            "object_fit": null,
            "object_position": null,
            "order": null,
            "overflow": null,
            "overflow_x": null,
            "overflow_y": null,
            "padding": null,
            "right": null,
            "top": null,
            "visibility": null,
            "width": null
          }
        },
        "0336980d1dd34d6f8919ec0b81dea619": {
          "model_module": "@jupyter-widgets/controls",
          "model_name": "ProgressStyleModel",
          "model_module_version": "1.5.0",
          "state": {
            "_model_module": "@jupyter-widgets/controls",
            "_model_module_version": "1.5.0",
            "_model_name": "ProgressStyleModel",
            "_view_count": null,
            "_view_module": "@jupyter-widgets/base",
            "_view_module_version": "1.2.0",
            "_view_name": "StyleView",
            "bar_color": null,
            "description_width": ""
          }
        },
        "76a9e5fb365342e28ea0419d1d3c62af": {
          "model_module": "@jupyter-widgets/base",
          "model_name": "LayoutModel",
          "model_module_version": "1.2.0",
          "state": {
            "_model_module": "@jupyter-widgets/base",
            "_model_module_version": "1.2.0",
            "_model_name": "LayoutModel",
            "_view_count": null,
            "_view_module": "@jupyter-widgets/base",
            "_view_module_version": "1.2.0",
            "_view_name": "LayoutView",
            "align_content": null,
            "align_items": null,
            "align_self": null,
            "border": null,
            "bottom": null,
            "display": null,
            "flex": null,
            "flex_flow": null,
            "grid_area": null,
            "grid_auto_columns": null,
            "grid_auto_flow": null,
            "grid_auto_rows": null,
            "grid_column": null,
            "grid_gap": null,
            "grid_row": null,
            "grid_template_areas": null,
            "grid_template_columns": null,
            "grid_template_rows": null,
            "height": null,
            "justify_content": null,
            "justify_items": null,
            "left": null,
            "margin": null,
            "max_height": null,
            "max_width": null,
            "min_height": null,
            "min_width": null,
            "object_fit": null,
            "object_position": null,
            "order": null,
            "overflow": null,
            "overflow_x": null,
            "overflow_y": null,
            "padding": null,
            "right": null,
            "top": null,
            "visibility": null,
            "width": null
          }
        },
        "501b0291c4b54546a34db3d378959fe4": {
          "model_module": "@jupyter-widgets/controls",
          "model_name": "DescriptionStyleModel",
          "model_module_version": "1.5.0",
          "state": {
            "_model_module": "@jupyter-widgets/controls",
            "_model_module_version": "1.5.0",
            "_model_name": "DescriptionStyleModel",
            "_view_count": null,
            "_view_module": "@jupyter-widgets/base",
            "_view_module_version": "1.2.0",
            "_view_name": "StyleView",
            "description_width": ""
          }
        }
      }
    }
  },
  "cells": [
    {
      "cell_type": "markdown",
      "metadata": {
        "id": "L7coo48jufYT"
      },
      "source": [
        "# Preparing Data"
      ]
    },
    {
      "cell_type": "code",
      "metadata": {
        "id": "-3S6Z9dmMiRs"
      },
      "source": [
        "import pandas as pd \n",
        "import numpy as np\n",
        "import nltk"
      ],
      "execution_count": null,
      "outputs": []
    },
    {
      "cell_type": "code",
      "metadata": {
        "colab": {
          "base_uri": "https://localhost:8080/",
          "height": 206
        },
        "id": "7LD0Z87lNAIs",
        "outputId": "d9cfce84-1ccf-4bf2-b936-4a521df0fdea"
      },
      "source": [
        "dataSB = pd.read_csv('tweets_1.csv') #lokasi file\n",
        "\n",
        "dataSB.head()"
      ],
      "execution_count": null,
      "outputs": [
        {
          "output_type": "execute_result",
          "data": {
            "text/plain": [
              "                  date         username  \\\n",
              "0  2022-04-01 12:11:12     hooray4trees   \n",
              "1  2022-04-01 05:22:28       PureShakti   \n",
              "2  2022-04-01 03:32:45          ozjohnd   \n",
              "3  2022-04-01 03:10:22     Variablefrog   \n",
              "4  2022-04-01 00:47:21  MsJKinderGators   \n",
              "\n",
              "                                               tweet  \n",
              "0  the flu is a respiratory virus that disappears...  \n",
              "1  disgraceful   amp  cowardly drmoore who has ab...  \n",
              "2   do we have a genuine incidence of long covid ...  \n",
              "3  woke the kids today with the news that schools...  \n",
              "4   i would be so grateful for any support helpin...  "
            ],
            "text/html": [
              "\n",
              "  <div id=\"df-a277323a-15d2-47e0-adb3-85c3c9c87c72\">\n",
              "    <div class=\"colab-df-container\">\n",
              "      <div>\n",
              "<style scoped>\n",
              "    .dataframe tbody tr th:only-of-type {\n",
              "        vertical-align: middle;\n",
              "    }\n",
              "\n",
              "    .dataframe tbody tr th {\n",
              "        vertical-align: top;\n",
              "    }\n",
              "\n",
              "    .dataframe thead th {\n",
              "        text-align: right;\n",
              "    }\n",
              "</style>\n",
              "<table border=\"1\" class=\"dataframe\">\n",
              "  <thead>\n",
              "    <tr style=\"text-align: right;\">\n",
              "      <th></th>\n",
              "      <th>date</th>\n",
              "      <th>username</th>\n",
              "      <th>tweet</th>\n",
              "    </tr>\n",
              "  </thead>\n",
              "  <tbody>\n",
              "    <tr>\n",
              "      <th>0</th>\n",
              "      <td>2022-04-01 12:11:12</td>\n",
              "      <td>hooray4trees</td>\n",
              "      <td>the flu is a respiratory virus that disappears...</td>\n",
              "    </tr>\n",
              "    <tr>\n",
              "      <th>1</th>\n",
              "      <td>2022-04-01 05:22:28</td>\n",
              "      <td>PureShakti</td>\n",
              "      <td>disgraceful   amp  cowardly drmoore who has ab...</td>\n",
              "    </tr>\n",
              "    <tr>\n",
              "      <th>2</th>\n",
              "      <td>2022-04-01 03:32:45</td>\n",
              "      <td>ozjohnd</td>\n",
              "      <td>do we have a genuine incidence of long covid ...</td>\n",
              "    </tr>\n",
              "    <tr>\n",
              "      <th>3</th>\n",
              "      <td>2022-04-01 03:10:22</td>\n",
              "      <td>Variablefrog</td>\n",
              "      <td>woke the kids today with the news that schools...</td>\n",
              "    </tr>\n",
              "    <tr>\n",
              "      <th>4</th>\n",
              "      <td>2022-04-01 00:47:21</td>\n",
              "      <td>MsJKinderGators</td>\n",
              "      <td>i would be so grateful for any support helpin...</td>\n",
              "    </tr>\n",
              "  </tbody>\n",
              "</table>\n",
              "</div>\n",
              "      <button class=\"colab-df-convert\" onclick=\"convertToInteractive('df-a277323a-15d2-47e0-adb3-85c3c9c87c72')\"\n",
              "              title=\"Convert this dataframe to an interactive table.\"\n",
              "              style=\"display:none;\">\n",
              "        \n",
              "  <svg xmlns=\"http://www.w3.org/2000/svg\" height=\"24px\"viewBox=\"0 0 24 24\"\n",
              "       width=\"24px\">\n",
              "    <path d=\"M0 0h24v24H0V0z\" fill=\"none\"/>\n",
              "    <path d=\"M18.56 5.44l.94 2.06.94-2.06 2.06-.94-2.06-.94-.94-2.06-.94 2.06-2.06.94zm-11 1L8.5 8.5l.94-2.06 2.06-.94-2.06-.94L8.5 2.5l-.94 2.06-2.06.94zm10 10l.94 2.06.94-2.06 2.06-.94-2.06-.94-.94-2.06-.94 2.06-2.06.94z\"/><path d=\"M17.41 7.96l-1.37-1.37c-.4-.4-.92-.59-1.43-.59-.52 0-1.04.2-1.43.59L10.3 9.45l-7.72 7.72c-.78.78-.78 2.05 0 2.83L4 21.41c.39.39.9.59 1.41.59.51 0 1.02-.2 1.41-.59l7.78-7.78 2.81-2.81c.8-.78.8-2.07 0-2.86zM5.41 20L4 18.59l7.72-7.72 1.47 1.35L5.41 20z\"/>\n",
              "  </svg>\n",
              "      </button>\n",
              "      \n",
              "  <style>\n",
              "    .colab-df-container {\n",
              "      display:flex;\n",
              "      flex-wrap:wrap;\n",
              "      gap: 12px;\n",
              "    }\n",
              "\n",
              "    .colab-df-convert {\n",
              "      background-color: #E8F0FE;\n",
              "      border: none;\n",
              "      border-radius: 50%;\n",
              "      cursor: pointer;\n",
              "      display: none;\n",
              "      fill: #1967D2;\n",
              "      height: 32px;\n",
              "      padding: 0 0 0 0;\n",
              "      width: 32px;\n",
              "    }\n",
              "\n",
              "    .colab-df-convert:hover {\n",
              "      background-color: #E2EBFA;\n",
              "      box-shadow: 0px 1px 2px rgba(60, 64, 67, 0.3), 0px 1px 3px 1px rgba(60, 64, 67, 0.15);\n",
              "      fill: #174EA6;\n",
              "    }\n",
              "\n",
              "    [theme=dark] .colab-df-convert {\n",
              "      background-color: #3B4455;\n",
              "      fill: #D2E3FC;\n",
              "    }\n",
              "\n",
              "    [theme=dark] .colab-df-convert:hover {\n",
              "      background-color: #434B5C;\n",
              "      box-shadow: 0px 1px 3px 1px rgba(0, 0, 0, 0.15);\n",
              "      filter: drop-shadow(0px 1px 2px rgba(0, 0, 0, 0.3));\n",
              "      fill: #FFFFFF;\n",
              "    }\n",
              "  </style>\n",
              "\n",
              "      <script>\n",
              "        const buttonEl =\n",
              "          document.querySelector('#df-a277323a-15d2-47e0-adb3-85c3c9c87c72 button.colab-df-convert');\n",
              "        buttonEl.style.display =\n",
              "          google.colab.kernel.accessAllowed ? 'block' : 'none';\n",
              "\n",
              "        async function convertToInteractive(key) {\n",
              "          const element = document.querySelector('#df-a277323a-15d2-47e0-adb3-85c3c9c87c72');\n",
              "          const dataTable =\n",
              "            await google.colab.kernel.invokeFunction('convertToInteractive',\n",
              "                                                     [key], {});\n",
              "          if (!dataTable) return;\n",
              "\n",
              "          const docLinkHtml = 'Like what you see? Visit the ' +\n",
              "            '<a target=\"_blank\" href=https://colab.research.google.com/notebooks/data_table.ipynb>data table notebook</a>'\n",
              "            + ' to learn more about interactive tables.';\n",
              "          element.innerHTML = '';\n",
              "          dataTable['output_type'] = 'display_data';\n",
              "          await google.colab.output.renderOutput(dataTable, element);\n",
              "          const docLink = document.createElement('div');\n",
              "          docLink.innerHTML = docLinkHtml;\n",
              "          element.appendChild(docLink);\n",
              "        }\n",
              "      </script>\n",
              "    </div>\n",
              "  </div>\n",
              "  "
            ]
          },
          "metadata": {},
          "execution_count": 6
        }
      ]
    },
    {
      "cell_type": "code",
      "metadata": {
        "colab": {
          "base_uri": "https://localhost:8080/"
        },
        "id": "Ir6LW2PuN7dw",
        "outputId": "1108df42-02cd-433a-b2b1-9d8ebe1a2df2"
      },
      "source": [
        "# ------ Case Folding --------\n",
        "# gunakan fungsi Series.str.lower() pada Pandas\n",
        "\n",
        "dataSB['tweet'] = dataSB['tweet'].str.lower()\n",
        "\n",
        "print('Case Folding Result : \\n')\n",
        "print(dataSB['tweet'].head(5))"
      ],
      "execution_count": null,
      "outputs": [
        {
          "output_type": "stream",
          "name": "stdout",
          "text": [
            "Case Folding Result : \n",
            "\n",
            "0    the flu is a respiratory virus that disappears...\n",
            "1    disgraceful   amp  cowardly drmoore who has ab...\n",
            "2     do we have a genuine incidence of long covid ...\n",
            "3    woke the kids today with the news that schools...\n",
            "4     i would be so grateful for any support helpin...\n",
            "Name: tweet, dtype: object\n"
          ]
        }
      ]
    },
    {
      "cell_type": "markdown",
      "metadata": {
        "id": "6QHEcQNluwc2"
      },
      "source": [
        "# Tokenizing\n",
        "\n",
        "Menghapus karakter-karakter yang tidak penting dari text"
      ]
    },
    {
      "cell_type": "code",
      "metadata": {
        "id": "bRMi74w-OKjC"
      },
      "source": [
        "import string \n",
        "import re #regex library\n",
        "\n",
        "# import word_tokenize & FreqDist from NLTK\n",
        "from nltk.tokenize import word_tokenize \n",
        "from nltk.probability import FreqDist"
      ],
      "execution_count": null,
      "outputs": []
    },
    {
      "cell_type": "code",
      "metadata": {
        "id": "Tz06NMSjdPSt",
        "colab": {
          "base_uri": "https://localhost:8080/"
        },
        "outputId": "73dd4e59-dab4-476c-d651-eae0d8545255"
      },
      "source": [
        "# ------ Tokenizing ---------\n",
        "\n",
        "nltk.download('punkt')\n",
        "\n",
        "def remove_tweet_special(text):\n",
        "    # remove tab, new line, ans back slice\n",
        "    text = text.replace('\\\\t',\" \").replace('\\\\n',\" \").replace('\\\\u',\" \").replace('\\\\',\"\")\n",
        "    # remove non ASCII (emoticon, chinese word, .etc)\n",
        "    text = text.encode('ascii', 'replace').decode('ascii')\n",
        "    # remove mention, link, hashtag\n",
        "    text = ' '.join(re.sub(\"([@#][A-Za-z0-9]+)|(\\w+:\\/\\/\\S+)\",\" \", text).split())\n",
        "    # remove incomplete URL\n",
        "    return text.replace(\"http://\", \" \").replace(\"https://\", \" \")\n",
        "                \n",
        "dataSB['tweet'] = dataSB['tweet'].apply(remove_tweet_special)\n",
        "\n",
        "#remove number\n",
        "def remove_number(text):\n",
        "    return  re.sub(r\"\\d+\", \"\", text)\n",
        "\n",
        "dataSB['tweet'] = dataSB['tweet'].apply(remove_number)\n",
        "\n",
        "#remove punctuation\n",
        "def remove_punctuation(text):\n",
        "    return text.translate(str.maketrans(\"\",\"\",string.punctuation))\n",
        "\n",
        "dataSB['tweet'] = dataSB['tweet'].apply(remove_punctuation)\n",
        "\n",
        "#remove whitespace leading & trailing\n",
        "def remove_whitespace_LT(text):\n",
        "    return text.strip()\n",
        "\n",
        "dataSB['tweet'] = dataSB['tweet'].apply(remove_whitespace_LT)\n",
        "\n",
        "#remove multiple whitespace into single whitespace\n",
        "def remove_whitespace_multiple(text):\n",
        "    return re.sub('\\s+',' ',text)\n",
        "\n",
        "dataSB['tweet'] = dataSB['tweet'].apply(remove_whitespace_multiple)\n",
        "\n",
        "# remove single char\n",
        "def remove_singl_char(text):\n",
        "    return re.sub(r\"\\b[a-zA-Z]\\b\", \"\", text)\n",
        "\n",
        "dataSB['tweet'] = dataSB['tweet'].apply(remove_singl_char)\n",
        "\n",
        "# NLTK word tokenize \n",
        "def word_tokenize_wrapper(text):\n",
        "    return word_tokenize(text)\n",
        "\n",
        "dataSB['tweet_tokens'] = dataSB['tweet'].apply(word_tokenize_wrapper)\n",
        "\n",
        "print('Tokenizing Result : \\n') \n",
        "print(dataSB['tweet_tokens'].head())"
      ],
      "execution_count": null,
      "outputs": [
        {
          "output_type": "stream",
          "name": "stdout",
          "text": [
            "[nltk_data] Downloading package punkt to /root/nltk_data...\n",
            "[nltk_data]   Unzipping tokenizers/punkt.zip.\n",
            "Tokenizing Result : \n",
            "\n",
            "0    [the, flu, is, respiratory, virus, that, disap...\n",
            "1    [disgraceful, amp, cowardly, drmoore, who, has...\n",
            "2    [do, we, have, genuine, incidence, of, long, c...\n",
            "3    [woke, the, kids, today, with, the, news, that...\n",
            "4    [would, be, so, grateful, for, any, support, h...\n",
            "Name: tweet_tokens, dtype: object\n"
          ]
        }
      ]
    },
    {
      "cell_type": "code",
      "metadata": {
        "id": "k9aPbhDxdPSv",
        "colab": {
          "base_uri": "https://localhost:8080/"
        },
        "outputId": "6af99381-235d-4e4f-ecc7-33223b53aec7"
      },
      "source": [
        "# NLTK calc frequency distribution\n",
        "def freqDist_wrapper(text):\n",
        "    return FreqDist(text)\n",
        "\n",
        "dataSB['tweet_tokens_fdist'] = dataSB['tweet_tokens'].apply(freqDist_wrapper)\n",
        "\n",
        "print('Frequency Tokens : \\n') \n",
        "print(dataSB['tweet_tokens_fdist'].head().apply(lambda x : x.most_common()))"
      ],
      "execution_count": null,
      "outputs": [
        {
          "output_type": "stream",
          "name": "stdout",
          "text": [
            "Frequency Tokens : \n",
            "\n",
            "0    [(it, 4), (respiratory, 3), (is, 2), (virus, 2...\n",
            "1    [(covid, 3), (amp, 2), (from, 2), (this, 2), (...\n",
            "2    [(of, 5), (the, 4), (do, 2), (in, 2), (yet, 2)...\n",
            "3    [(the, 4), (in, 2), (to, 2), (woke, 1), (kids,...\n",
            "4    [(to, 2), (would, 1), (be, 1), (so, 1), (grate...\n",
            "Name: tweet_tokens_fdist, dtype: object\n"
          ]
        }
      ]
    },
    {
      "cell_type": "markdown",
      "metadata": {
        "id": "oNgujoy0dPSw"
      },
      "source": [
        "# Stopwords\n",
        "Membersihkan teks dari kata-kata yang termasuk ke dalam stopwords"
      ]
    },
    {
      "cell_type": "code",
      "metadata": {
        "colab": {
          "base_uri": "https://localhost:8080/"
        },
        "id": "XQ_gaIXZdgS5",
        "outputId": "966880ab-213e-49ef-bb39-b592a3bd2520"
      },
      "source": [
        "nltk.download('stopwords')"
      ],
      "execution_count": null,
      "outputs": [
        {
          "output_type": "stream",
          "name": "stdout",
          "text": [
            "[nltk_data] Downloading package stopwords to /root/nltk_data...\n",
            "[nltk_data]   Unzipping corpora/stopwords.zip.\n"
          ]
        },
        {
          "output_type": "execute_result",
          "data": {
            "text/plain": [
              "True"
            ]
          },
          "metadata": {},
          "execution_count": 11
        }
      ]
    },
    {
      "cell_type": "code",
      "metadata": {
        "id": "PO8UwLZddPSx",
        "colab": {
          "base_uri": "https://localhost:8080/"
        },
        "outputId": "e426da9c-4ad8-4c05-a5ed-0261cb0a7208"
      },
      "source": [
        "from nltk.corpus import stopwords\n",
        "\n",
        "# ----------------------- get stopword from NLTK stopword -------------------------------\n",
        "# get stopword indonesia\n",
        "list_stopwords = stopwords.words('indonesian')\n",
        "\n",
        "\n",
        "# ---------------------------- manualy add stopword  ------------------------------------\n",
        "# append additional stopword\n",
        "list_stopwords.extend([\"yg\", \"dg\", \"rt\", \"dgn\", \"ny\", \"d\", 'klo', \n",
        "                       'kalo', 'amp', 'biar', 'bikin', 'bilang', \n",
        "                       'gak', 'ga', 'krn', 'nya', 'nih', 'sih', \n",
        "                       'si', 'tau', 'tdk', 'tuh', 'utk', 'ya', \n",
        "                       'jd', 'jgn', 'sdh', 'aja', 'n', 't', \n",
        "                       'nyg', 'hehe', 'pen', 'u', 'nan', 'loh', 'rt',\n",
        "                       '&amp', 'yah', 'bisnis', 'pandemi', 'indonesia'])\n",
        "\n",
        "# convert list to dictionary\n",
        "list_stopwords = set(list_stopwords)\n",
        "\n",
        "#remove stopword pada list token\n",
        "def stopwords_removal(words):\n",
        "    return [word for word in words if word not in list_stopwords]\n",
        "\n",
        "dataSB['tweet_tokens_WSW'] = dataSB['tweet_tokens'].apply(stopwords_removal) \n",
        "\n",
        "print(dataSB['tweet_tokens_WSW'].head())\n",
        "dataSB.to_csv('normalisaasi_tweets.csv')"
      ],
      "execution_count": null,
      "outputs": [
        {
          "output_type": "stream",
          "name": "stdout",
          "text": [
            "0    [the, flu, is, respiratory, virus, that, disap...\n",
            "1    [disgraceful, cowardly, drmoore, who, has, abs...\n",
            "2    [do, we, have, genuine, incidence, of, long, c...\n",
            "3    [woke, the, kids, today, with, the, news, that...\n",
            "4    [would, be, so, grateful, for, any, support, h...\n",
            "Name: tweet_tokens_WSW, dtype: object\n"
          ]
        }
      ]
    },
    {
      "cell_type": "markdown",
      "metadata": {
        "id": "KLT9hddUdPSx"
      },
      "source": [
        "# Normalisasi\n",
        "Mengganti kata-kata tertentu dengan kata lain yang lebih tepat"
      ]
    },
    {
      "cell_type": "code",
      "metadata": {
        "colab": {
          "base_uri": "https://localhost:8080/"
        },
        "id": "PAWdsJhwP6RQ",
        "outputId": "67124730-5466-43a2-fac3-a8a8b6b38b54"
      },
      "source": [
        "normalizad_word = pd.read_csv('normalisaasi_tweets.csv') #lokasi file\n",
        "\n",
        "normalizad_word_dict = {}\n",
        "\n",
        "for index, row in normalizad_word.iterrows():\n",
        "    if row[0] not in normalizad_word_dict:\n",
        "        normalizad_word_dict[row[0]] = row[1] \n",
        "\n",
        "def normalized_term(document):\n",
        "    return [normalizad_word_dict[term] if term in normalizad_word_dict else term for term in document]\n",
        "\n",
        "dataSB['tweet_normalized'] = dataSB['tweet_tokens_WSW'].apply(normalized_term)\n",
        "\n",
        "dataSB['tweet_normalized'].head(10)"
      ],
      "execution_count": null,
      "outputs": [
        {
          "output_type": "execute_result",
          "data": {
            "text/plain": [
              "0    [the, flu, is, respiratory, virus, that, disap...\n",
              "1    [disgraceful, cowardly, drmoore, who, has, abs...\n",
              "2    [do, we, have, genuine, incidence, of, long, c...\n",
              "3    [woke, the, kids, today, with, the, news, that...\n",
              "4    [would, be, so, grateful, for, any, support, h...\n",
              "5    [pembelajaran, jarak, pjj, terpaksa, digelar, ...\n",
              "6    [more, than, two, years, into, the, covid, pan...\n",
              "7    [ty, for, your, leadership, constitutional, am...\n",
              "8    [the, covid, pandemic, will, come, to, an, end...\n",
              "9    [we, have, experienced, learning, loss, from, ...\n",
              "Name: tweet_normalized, dtype: object"
            ]
          },
          "metadata": {},
          "execution_count": 13
        }
      ]
    },
    {
      "cell_type": "code",
      "metadata": {
        "id": "TNzlXxSJdPSy",
        "colab": {
          "base_uri": "https://localhost:8080/"
        },
        "outputId": "a19e408d-79d2-4e96-fdc5-8e9abd8f4492"
      },
      "source": [
        "# import Sastrawi package\n",
        "from Sastrawi.Stemmer.StemmerFactory import StemmerFactory\n",
        "import swifter\n",
        "\n",
        "# create stemmer\n",
        "factory = StemmerFactory()\n",
        "stemmer = factory.create_stemmer()\n",
        "\n",
        "# stemmed\n",
        "def stemmed_wrapper(term):\n",
        "    return stemmer.stem(term)\n",
        "\n",
        "term_dict = {}\n",
        "\n",
        "for document in dataSB['tweet_normalized']:\n",
        "    for term in document:\n",
        "        if term not in term_dict:\n",
        "            term_dict[term] = ' '\n",
        "            \n",
        "print(len(term_dict))\n",
        "\n",
        "# from nltk.stem import PorterStemmer\n",
        "# from nltk.tokenize import word_tokenize\n",
        "  \n",
        "# ps = PorterStemmer()\n",
        "\n",
        "# # stemmed\n",
        "# def stemmed_wrapper(term):\n",
        "#     return ps.stem(term)\n",
        "\n",
        "# term_dict = {}\n",
        "\n",
        "# for document in dataSB['tweet_normalized']:\n",
        "#     for term in document:\n",
        "#         if term not in term_dict:\n",
        "#             term_dict[term] = ' '\n"
      ],
      "execution_count": null,
      "outputs": [
        {
          "output_type": "stream",
          "name": "stdout",
          "text": [
            "1921\n"
          ]
        }
      ]
    },
    {
      "cell_type": "code",
      "metadata": {
        "scrolled": true,
        "id": "Kvkan257dPS1"
      },
      "source": [
        "for term in term_dict:\n",
        "    term_dict[term] = stemmed_wrapper(term)\n",
        "    \n",
        "    # untuk melihat hasilnya silahkan jalankan baris di bawah ini\n",
        "    # print(term,\":\" ,term_dict[term])"
      ],
      "execution_count": null,
      "outputs": []
    },
    {
      "cell_type": "code",
      "metadata": {
        "colab": {
          "base_uri": "https://localhost:8080/",
          "referenced_widgets": [
            "6140507d1f474186a6b9269debe35d6b",
            "854ba18340824153bce1ccf9ac49c06a",
            "1b19af7c23574691941839fff5ce26df",
            "28f17ebf88f1459a9d71b20d51fd919f",
            "99d6889b58134173974e3b84d39712ae",
            "4174a43cf8f143328e5eab14fe1ebdea",
            "0edfc2097b5d4b1383db6bea7b578cc8",
            "2f8321d18efa41d4b3eec6480b619dad",
            "0336980d1dd34d6f8919ec0b81dea619",
            "76a9e5fb365342e28ea0419d1d3c62af",
            "501b0291c4b54546a34db3d378959fe4"
          ]
        },
        "id": "OWpFQKehdPS2",
        "outputId": "4afb2fc0-01c9-4701-8930-83dc261ab6ea"
      },
      "source": [
        "# apply stemmed term to dataframe\n",
        "def get_stemmed_term(document):\n",
        "    return [term_dict[term] for term in document]\n",
        "\n",
        "dataSB['tweet_tokens_stemmed'] = dataSB['tweet_normalized'].swifter.apply(get_stemmed_term)\n",
        "\n",
        "print(dataSB['tweet_tokens_stemmed'])"
      ],
      "execution_count": null,
      "outputs": [
        {
          "output_type": "display_data",
          "data": {
            "text/plain": [
              "Pandas Apply:   0%|          | 0/251 [00:00<?, ?it/s]"
            ],
            "application/vnd.jupyter.widget-view+json": {
              "version_major": 2,
              "version_minor": 0,
              "model_id": "6140507d1f474186a6b9269debe35d6b"
            }
          },
          "metadata": {}
        },
        {
          "output_type": "stream",
          "name": "stdout",
          "text": [
            "0      [the, flu, is, respiratory, virus, that, disap...\n",
            "1      [disgraceful, cowardly, drmoore, who, has, abs...\n",
            "2      [do, we, have, genuine, incidence, of, long, c...\n",
            "3      [woke, the, kids, today, with, the, news, that...\n",
            "4      [would, be, so, grateful, for, any, support, h...\n",
            "                             ...                        \n",
            "246    [learning, loss, will, be, lasting, legacy, of...\n",
            "247    [you, throw, out, all, these, links, at, me, t...\n",
            "248    [learning, loss, will, be, lasting, legacy, of...\n",
            "249    [learning, loss, will, be, lasting, legacy, of...\n",
            "250    [these, are, the, ppl, who, will, run, india, ...\n",
            "Name: tweet_tokens_stemmed, Length: 251, dtype: object\n"
          ]
        }
      ]
    },
    {
      "cell_type": "code",
      "metadata": {
        "id": "Lc6tEmgadPS2",
        "colab": {
          "base_uri": "https://localhost:8080/"
        },
        "outputId": "e0c53596-78ed-46b5-da60-7ce41af9af78"
      },
      "source": [
        "#stopwords #2\n",
        "\n",
        "from nltk.corpus import stopwords\n",
        "\n",
        "# ----------------------- get stopword from NLTK stopword -------------------------------\n",
        "# get stopword indonesia\n",
        "list_stopwords = stopwords.words()\n",
        "\n",
        "\n",
        "# ---------------------------- manualy add stopword  ------------------------------------\n",
        "# append additional stopword\n",
        "list_stopwords.extend([\"tmrw\", \"tan\", \"ton\", \"pt\", \"komentar\", \"juta\", \"unit\", \"menang\", \"artikel\", \n",
        "                       \"smartphone\", \"tagar\", \"sedia\", \"kaskus\", \"seksi\", \"kl\", 'bs'])\n",
        "\n",
        "# convert list to dictionary\n",
        "list_stopwords = set(list_stopwords)\n",
        "\n",
        "#remove stopword pada list token\n",
        "def stopwords_removal(words):\n",
        "    return [word for word in words if word not in list_stopwords]\n",
        "\n",
        "dataSB['tweet_tokens_stemmed2'] = dataSB['tweet_tokens_stemmed'].apply(stopwords_removal) \n",
        "\n",
        "print(dataSB['tweet_tokens_stemmed2'].head())"
      ],
      "execution_count": null,
      "outputs": [
        {
          "output_type": "stream",
          "name": "stdout",
          "text": [
            "0    [flu, respiratory, virus, disappears, complete...\n",
            "1    [disgraceful, cowardly, drmoore, absconded, du...\n",
            "2    [genuine, incidence, long, covid, children, ye...\n",
            "3    [woke, kids, today, news, schools, new, zealan...\n",
            "4    [would, grateful, support, helping, start, sch...\n",
            "Name: tweet_tokens_stemmed2, dtype: object\n"
          ]
        }
      ]
    },
    {
      "cell_type": "code",
      "metadata": {
        "id": "bWZQiEXPdPS3",
        "colab": {
          "base_uri": "https://localhost:8080/"
        },
        "outputId": "9bb0065c-04c2-49bb-d609-1d3854ece180"
      },
      "source": [
        "for i in range(len(dataSB)):\n",
        "        a=dataSB.iloc[i][6]\n",
        "        document.append(a)\n",
        "        \n",
        "document[0:5]"
      ],
      "execution_count": null,
      "outputs": [
        {
          "output_type": "execute_result",
          "data": {
            "text/plain": [
              "['these', 'are', 'the', 'ppl', 'who']"
            ]
          },
          "metadata": {},
          "execution_count": 18
        }
      ]
    },
    {
      "cell_type": "code",
      "metadata": {
        "id": "uhGB8a3HdPS3",
        "colab": {
          "base_uri": "https://localhost:8080/"
        },
        "outputId": "51f20991-1b96-48e1-a685-c428f192969d"
      },
      "source": [
        "doc_clean = dataSB['tweet_tokens_stemmed2']\n",
        "doc_clean"
      ],
      "execution_count": null,
      "outputs": [
        {
          "output_type": "execute_result",
          "data": {
            "text/plain": [
              "0      [flu, respiratory, virus, disappears, complete...\n",
              "1      [disgraceful, cowardly, drmoore, absconded, du...\n",
              "2      [genuine, incidence, long, covid, children, ye...\n",
              "3      [woke, kids, today, news, schools, new, zealan...\n",
              "4      [would, grateful, support, helping, start, sch...\n",
              "                             ...                        \n",
              "246    [learning, loss, lasting, legacy, covid, safet...\n",
              "247    [throw, links, trying, justify, position, with...\n",
              "248    [learning, loss, lasting, legacy, covid, safet...\n",
              "249    [learning, loss, lasting, legacy, covid, safet...\n",
              "250    [ppl, run, india, get, elected, imagine, misse...\n",
              "Name: tweet_tokens_stemmed2, Length: 251, dtype: object"
            ]
          },
          "metadata": {},
          "execution_count": 19
        }
      ]
    },
    {
      "cell_type": "markdown",
      "metadata": {
        "id": "7IpABMN5dPS4"
      },
      "source": [
        "# LDA model using gensim\n",
        "Proses topic modeling dengan LDA gensim"
      ]
    },
    {
      "cell_type": "code",
      "metadata": {
        "id": "gsrO1YZcdPS3",
        "colab": {
          "base_uri": "https://localhost:8080/"
        },
        "outputId": "dc0c5624-a90f-4c13-ee9c-f07f8e25c51f"
      },
      "source": [
        "import gensim\n",
        "from gensim import corpora\n",
        "\n",
        "dictionary = corpora.Dictionary(doc_clean)\n",
        "print(dictionary)\n",
        "\n",
        "doc_term_matrix = [dictionary.doc2bow(doc) for doc in doc_clean]"
      ],
      "execution_count": null,
      "outputs": [
        {
          "output_type": "stream",
          "name": "stdout",
          "text": [
            "Dictionary(1787 unique tokens: ['brain', 'completely', 'component', 'covid', 'damage']...)\n"
          ]
        }
      ]
    },
    {
      "cell_type": "code",
      "metadata": {
        "id": "IjX9uZ-udPS4"
      },
      "source": [
        "# Creating the object for LDA model using gensim library\n",
        "Lda = gensim.models.ldamodel.LdaModel\n",
        "\n",
        "total_topics = 3 # jumlah topik yang akan di extract\n",
        "number_words = 10 # jumlah kata per topik"
      ],
      "execution_count": null,
      "outputs": []
    },
    {
      "cell_type": "code",
      "metadata": {
        "id": "NcPeAh8PdPS4",
        "colab": {
          "base_uri": "https://localhost:8080/"
        },
        "outputId": "e5d64d74-b27d-4fc5-f9ef-6813f0ec0f0b"
      },
      "source": [
        "# Running and Trainign LDA model on the document term matrix.\n",
        "lda_model = Lda(doc_term_matrix, num_topics=total_topics, id2word = dictionary, passes=50)\n",
        "\n",
        "lda_model.show_topics(num_topics=total_topics, num_words=number_words)"
      ],
      "execution_count": null,
      "outputs": [
        {
          "output_type": "execute_result",
          "data": {
            "text/plain": [
              "[(0,\n",
              "  '0.049*\"learning\" + 0.045*\"covid\" + 0.043*\"loss\" + 0.012*\"school\" + 0.011*\"children\" + 0.009*\"parents\" + 0.008*\"caused\" + 0.007*\"kids\" + 0.007*\"students\" + 0.007*\"pandemic\"'),\n",
              " (1,\n",
              "  '0.041*\"learning\" + 0.037*\"covid\" + 0.035*\"loss\" + 0.013*\"education\" + 0.012*\"school\" + 0.006*\"pandemic\" + 0.005*\"schools\" + 0.005*\"students\" + 0.004*\"million\" + 0.004*\"teachers\"'),\n",
              " (2,\n",
              "  '0.042*\"learning\" + 0.042*\"covid\" + 0.040*\"loss\" + 0.013*\"schools\" + 0.011*\"school\" + 0.010*\"students\" + 0.009*\"years\" + 0.008*\"kids\" + 0.007*\"pandemic\" + 0.006*\"new\"')]"
            ]
          },
          "metadata": {},
          "execution_count": 22
        }
      ]
    },
    {
      "cell_type": "code",
      "metadata": {
        "id": "WrqQ9VKidPS4",
        "colab": {
          "base_uri": "https://localhost:8080/"
        },
        "outputId": "25b8e6c5-31db-46ce-9e21-dfbfa479ef9c"
      },
      "source": [
        "# Word Count of Topic Keywords\n",
        "\n",
        "from collections import Counter\n",
        "topics = lda_model.show_topics(formatted=False)\n",
        "data_flat = [w for w_list in doc_clean for w in w_list]\n",
        "counter = Counter(data_flat)\n",
        "\n",
        "out = []\n",
        "for i, topic in topics:\n",
        "    for word, weight in topic:\n",
        "        out.append([word, i , weight, counter[word]])\n",
        "\n",
        "df_imp_wcount = pd.DataFrame(out, columns=['word', 'topic_id', 'importance', 'word_count']) \n",
        "print(df_imp_wcount)"
      ],
      "execution_count": null,
      "outputs": [
        {
          "output_type": "stream",
          "name": "stdout",
          "text": [
            "         word  topic_id  importance  word_count\n",
            "0    learning         0    0.048676         291\n",
            "1       covid         0    0.044855         274\n",
            "2        loss         0    0.042979         263\n",
            "3      school         0    0.011532          76\n",
            "4    children         0    0.010738          39\n",
            "5     parents         0    0.008598          23\n",
            "6      caused         0    0.008342          22\n",
            "7        kids         0    0.006923          37\n",
            "8    students         0    0.006817          50\n",
            "9    pandemic         0    0.006665          43\n",
            "10   learning         1    0.040697         291\n",
            "11      covid         1    0.036571         274\n",
            "12       loss         1    0.035143         263\n",
            "13  education         1    0.012757          43\n",
            "14     school         1    0.012303          76\n",
            "15   pandemic         1    0.005667          43\n",
            "16    schools         1    0.005439          43\n",
            "17   students         1    0.005107          50\n",
            "18    million         1    0.004040           9\n",
            "19   teachers         1    0.004022          17\n",
            "20   learning         2    0.041915         291\n",
            "21      covid         2    0.041724         274\n",
            "22       loss         2    0.040093         263\n",
            "23    schools         2    0.012768          43\n",
            "24     school         2    0.010835          76\n",
            "25   students         2    0.010342          50\n",
            "26      years         2    0.008725          31\n",
            "27       kids         2    0.008433          37\n",
            "28   pandemic         2    0.007246          43\n",
            "29        new         2    0.006421          19\n"
          ]
        }
      ]
    },
    {
      "cell_type": "code",
      "metadata": {
        "id": "VyMPU4DEpYcv"
      },
      "source": [
        "# from google.colab import drive\n",
        "# drive.mount('drive')"
      ],
      "execution_count": null,
      "outputs": []
    },
    {
      "cell_type": "code",
      "metadata": {
        "id": "dF8NhoAzqtcQ"
      },
      "source": [
        "#simpan ke google drive\n",
        "# df_imp_wcount.to_csv('df_imp_wcount.csv')\n",
        "# !cp df_imp_wcount.csv \"drive/My Drive/Colab Notebooks/LDA Indonesia/\""
      ],
      "execution_count": null,
      "outputs": []
    },
    {
      "cell_type": "code",
      "metadata": {
        "id": "u_fmI6SedPS4"
      },
      "source": [
        "#jika simpan ke local drive\n",
        "#filedisimpan='df_imp_wcount.xlsx'\n",
        "#df_imp_wcount.to_excel(filedisimpan, index = False, header=True)"
      ],
      "execution_count": null,
      "outputs": []
    },
    {
      "cell_type": "code",
      "metadata": {
        "id": "ciVXI1gtdPS4"
      },
      "source": [
        "#Dominant topic and its percentage contribution in each topic\n",
        "def format_topics_sentences(ldamodel=None, corpus=doc_term_matrix, texts=document):\n",
        "    # Init output\n",
        "    sent_topics_df = pd.DataFrame()\n",
        "\n",
        "    # Get main topic in each document\n",
        "    for i, row_list in enumerate(ldamodel[corpus]):\n",
        "        row = row_list[0] if ldamodel.per_word_topics else row_list            \n",
        "        # print(row)\n",
        "        row = sorted(row, key=lambda x: (x[1]), reverse=True)\n",
        "        # Get the Dominant topic, Perc Contribution and Keywords for each document\n",
        "        for j, (topic_num, prop_topic) in enumerate(row):\n",
        "            if j == 0:  # => dominant topic\n",
        "                wp = ldamodel.show_topic(topic_num)\n",
        "                topic_keywords = \", \".join([word for word, prop in wp])\n",
        "                sent_topics_df = sent_topics_df.append(pd.Series([int(topic_num), round(prop_topic,4), topic_keywords]), ignore_index=True)\n",
        "            else:\n",
        "                break\n",
        "    sent_topics_df.columns = ['Dominant_Topic', 'Perc_Contribution', 'Topic_Keywords']\n",
        "\n",
        "    # Add original text to the end of the output\n",
        "    contents = pd.Series(texts)\n",
        "    sent_topics_df = pd.concat([sent_topics_df, contents], axis=1)\n",
        "    return(sent_topics_df)"
      ],
      "execution_count": null,
      "outputs": []
    },
    {
      "cell_type": "code",
      "metadata": {
        "id": "_OebSqAFdPS4",
        "colab": {
          "base_uri": "https://localhost:8080/"
        },
        "outputId": "5cb294ab-18d1-4478-df0d-84c442bcec0a"
      },
      "source": [
        "df_topic_sents_keywords = format_topics_sentences(ldamodel=lda_model, corpus=doc_term_matrix, texts=doc_clean)\n",
        "\n",
        "# Format\n",
        "df_dominant_topic = df_topic_sents_keywords.reset_index()\n",
        "df_dominant_topic.columns = ['Document_No', 'Dominant_Topic', 'Topic_Perc_Contrib', 'Keywords', 'Text']\n",
        "df_dominant_topic.to_csv('dominant_topic.csv')\n",
        "print(df_dominant_topic.head(10))"
      ],
      "execution_count": null,
      "outputs": [
        {
          "output_type": "stream",
          "name": "stdout",
          "text": [
            "   Document_No  Dominant_Topic  Topic_Perc_Contrib  \\\n",
            "0            0             2.0              0.9689   \n",
            "1            1             0.0              0.9719   \n",
            "2            2             2.0              0.9726   \n",
            "3            3             2.0              0.9616   \n",
            "4            4             0.0              0.9688   \n",
            "5            5             1.0              0.9591   \n",
            "6            6             2.0              0.9610   \n",
            "7            7             2.0              0.9701   \n",
            "8            8             0.0              0.9354   \n",
            "9            9             2.0              0.9631   \n",
            "\n",
            "                                            Keywords  \\\n",
            "0  learning, covid, loss, schools, school, studen...   \n",
            "1  learning, covid, loss, school, children, paren...   \n",
            "2  learning, covid, loss, schools, school, studen...   \n",
            "3  learning, covid, loss, schools, school, studen...   \n",
            "4  learning, covid, loss, school, children, paren...   \n",
            "5  learning, covid, loss, education, school, pand...   \n",
            "6  learning, covid, loss, schools, school, studen...   \n",
            "7  learning, covid, loss, schools, school, studen...   \n",
            "8  learning, covid, loss, school, children, paren...   \n",
            "9  learning, covid, loss, schools, school, studen...   \n",
            "\n",
            "                                                Text  \n",
            "0  [flu, respiratory, virus, disappears, complete...  \n",
            "1  [disgraceful, cowardly, drmoore, absconded, du...  \n",
            "2  [genuine, incidence, long, covid, children, ye...  \n",
            "3  [woke, kids, today, news, schools, new, zealan...  \n",
            "4  [would, grateful, support, helping, start, sch...  \n",
            "5  [ajar, jarak, pjj, paksa, gelar, sakit, covid,...  \n",
            "6  [two, years, covid, pandemic, children, forget...  \n",
            "7  [ty, leadership, constitutional, amendment, im...  \n",
            "8  [covid, pandemic, learning, loss, caused, coul...  \n",
            "9  [experienced, learning, loss, students, covid,...  \n"
          ]
        }
      ]
    },
    {
      "cell_type": "code",
      "source": [
        "print(df_dominant_topic)\n",
        "\n"
      ],
      "metadata": {
        "colab": {
          "base_uri": "https://localhost:8080/"
        },
        "id": "hKl3F176HyFx",
        "outputId": "8cea394e-cc20-4ae6-8f8f-5752b8a81a2b"
      },
      "execution_count": null,
      "outputs": [
        {
          "output_type": "stream",
          "name": "stdout",
          "text": [
            "     Document_No  Dominant_Topic  Topic_Perc_Contrib  \\\n",
            "0              0             2.0              0.9689   \n",
            "1              1             0.0              0.9719   \n",
            "2              2             2.0              0.9726   \n",
            "3              3             2.0              0.9616   \n",
            "4              4             0.0              0.9688   \n",
            "..           ...             ...                 ...   \n",
            "246          246             1.0              0.8944   \n",
            "247          247             1.0              0.9698   \n",
            "248          248             1.0              0.8943   \n",
            "249          249             1.0              0.8944   \n",
            "250          250             1.0              0.9744   \n",
            "\n",
            "                                              Keywords  \\\n",
            "0    learning, covid, loss, schools, school, studen...   \n",
            "1    learning, covid, loss, school, children, paren...   \n",
            "2    learning, covid, loss, schools, school, studen...   \n",
            "3    learning, covid, loss, schools, school, studen...   \n",
            "4    learning, covid, loss, school, children, paren...   \n",
            "..                                                 ...   \n",
            "246  learning, covid, loss, education, school, pand...   \n",
            "247  learning, covid, loss, education, school, pand...   \n",
            "248  learning, covid, loss, education, school, pand...   \n",
            "249  learning, covid, loss, education, school, pand...   \n",
            "250  learning, covid, loss, education, school, pand...   \n",
            "\n",
            "                                                  Text  \n",
            "0    [flu, respiratory, virus, disappears, complete...  \n",
            "1    [disgraceful, cowardly, drmoore, absconded, du...  \n",
            "2    [genuine, incidence, long, covid, children, ye...  \n",
            "3    [woke, kids, today, news, schools, new, zealan...  \n",
            "4    [would, grateful, support, helping, start, sch...  \n",
            "..                                                 ...  \n",
            "246  [learning, loss, lasting, legacy, covid, safet...  \n",
            "247  [throw, links, trying, justify, position, with...  \n",
            "248  [learning, loss, lasting, legacy, covid, safet...  \n",
            "249  [learning, loss, lasting, legacy, covid, safet...  \n",
            "250  [ppl, run, india, get, elected, imagine, misse...  \n",
            "\n",
            "[251 rows x 5 columns]\n"
          ]
        }
      ]
    },
    {
      "cell_type": "code",
      "metadata": {
        "id": "uxlqTXuip97X"
      },
      "source": [
        "#simpan ke google drive\n",
        "# df_dominant_topic.to_csv('df_dominant_topic.csv')\n",
        "# !cp df_dominant_topic.csv \"drive/My Drive/Colab Notebooks/LDA Indonesia/\""
      ],
      "execution_count": null,
      "outputs": []
    },
    {
      "cell_type": "code",
      "metadata": {
        "id": "3tVzJCX5dPS5"
      },
      "source": [
        "# jika simpan ke local drive\n",
        "# filedisimpan='df_dominant_topic.xlsx'\n",
        "# df_dominant_topic.to_excel(filedisimpan, index = False, header=True)"
      ],
      "execution_count": null,
      "outputs": []
    },
    {
      "cell_type": "code",
      "metadata": {
        "id": "CPxZdk2adPS5",
        "colab": {
          "base_uri": "https://localhost:8080/"
        },
        "outputId": "0932420f-bb13-46bb-ad24-9ffa73c4e288"
      },
      "source": [
        "import pyLDAvis.gensim\n",
        "import pickle \n",
        "import pyLDAvis\n",
        "# Visualize the topics\n",
        "pyLDAvis.enable_notebook()"
      ],
      "execution_count": null,
      "outputs": [
        {
          "output_type": "stream",
          "name": "stderr",
          "text": [
            "/usr/local/lib/python3.7/dist-packages/past/types/oldstr.py:5: DeprecationWarning: Using or importing the ABCs from 'collections' instead of from 'collections.abc' is deprecated since Python 3.3,and in 3.9 it will stop working\n",
            "  from collections import Iterable\n",
            "/usr/local/lib/python3.7/dist-packages/past/builtins/misc.py:4: DeprecationWarning: Using or importing the ABCs from 'collections' instead of from 'collections.abc' is deprecated since Python 3.3,and in 3.9 it will stop working\n",
            "  from collections import Mapping\n"
          ]
        }
      ]
    },
    {
      "cell_type": "code",
      "metadata": {
        "id": "Yh7qhTZadPS5"
      },
      "source": [
        "import os\n",
        "LDAvis_data_filepath = os.path.join('ldavis_prepared_'+str(total_topics))"
      ],
      "execution_count": null,
      "outputs": []
    },
    {
      "cell_type": "code",
      "metadata": {
        "id": "AtNwD5fcdPS5"
      },
      "source": [
        "corpus = [dictionary.doc2bow(text) for text in doc_clean]"
      ],
      "execution_count": null,
      "outputs": []
    },
    {
      "cell_type": "code",
      "metadata": {
        "id": "6p2NGYvMdPS5"
      },
      "source": [
        "# proses ini mungkin agak lama\n",
        "if 1 == 1:\n",
        "    LDAvis_prepared = pyLDAvis.gensim.prepare(lda_model, corpus, dictionary)\n",
        "    with open(LDAvis_data_filepath, 'wb') as f:\n",
        "        pickle.dump(LDAvis_prepared, f)"
      ],
      "execution_count": null,
      "outputs": []
    },
    {
      "cell_type": "code",
      "metadata": {
        "id": "436P-l4udPS5"
      },
      "source": [
        "# load the pre-prepared pyLDAvis data from disk\n",
        "with open(LDAvis_data_filepath, 'rb') as f:\n",
        "    LDAvis_prepared = pickle.load(f)"
      ],
      "execution_count": null,
      "outputs": []
    },
    {
      "cell_type": "code",
      "metadata": {
        "id": "Uk4RnnzSdPS5"
      },
      "source": [
        "pyLDAvis.save_html(LDAvis_prepared, '/ldavis_prepared_'+ str(total_topics) +'.html')"
      ],
      "execution_count": null,
      "outputs": []
    },
    {
      "cell_type": "code",
      "metadata": {
        "id": "dRBL8ZqcdPS6",
        "colab": {
          "base_uri": "https://localhost:8080/",
          "height": 861
        },
        "outputId": "77ccf054-6237-4bec-f320-d9e391104b81"
      },
      "source": [
        "# proses ini mungkin agak lama\n",
        "LDAvis_prepared"
      ],
      "execution_count": null,
      "outputs": [
        {
          "output_type": "execute_result",
          "data": {
            "text/plain": [
              "PreparedData(topic_coordinates=              x         y  topics  cluster       Freq\n",
              "topic                                                \n",
              "2     -0.024349 -0.088379       1        1  39.097174\n",
              "1     -0.069985  0.063834       2        1  30.455596\n",
              "0      0.094334  0.024545       3        1  30.447230, topic_info=              Term       Freq      Total Category  logprob  loglift\n",
              "63         schools  32.000000  32.000000  Default  30.0000  30.0000\n",
              "971  heartbreaking  10.000000  10.000000  Default  29.0000  29.0000\n",
              "132         caused  16.000000  16.000000  Default  28.0000  28.0000\n",
              "660        parents  17.000000  17.000000  Default  27.0000  27.0000\n",
              "103      education  31.000000  31.000000  Default  26.0000  26.0000\n",
              "..             ...        ...        ...      ...      ...      ...\n",
              "27            live   4.549445   7.916640   Topic3  -5.7938   0.6352\n",
              "28            long   5.479835  16.130008   Topic3  -5.6078   0.1096\n",
              "103      education   6.350505  31.964200   Topic3  -5.4603  -0.4269\n",
              "101        address   4.545783  12.419026   Topic3  -5.7946   0.1841\n",
              "133          could   4.242622  11.017757   Topic3  -5.8637   0.2348\n",
              "\n",
              "[207 rows x 6 columns], token_table=      Topic      Freq         Term\n",
              "term                              \n",
              "70        2  0.198405     academic\n",
              "70        3  0.793620     academic\n",
              "1139      2  0.831244  accelerated\n",
              "1140      2  0.693345       access\n",
              "1140      3  0.231115       access\n",
              "...     ...       ...          ...\n",
              "205       2  0.367122         year\n",
              "68        1  0.713181        years\n",
              "68        2  0.209759        years\n",
              "68        3  0.125855        years\n",
              "182       1  0.999777    yesterday\n",
              "\n",
              "[252 rows x 3 columns], R=30, lambda_step=0.01, plot_opts={'xlab': 'PC1', 'ylab': 'PC2'}, topic_order=[3, 2, 1])"
            ],
            "text/html": [
              "\n",
              "<link rel=\"stylesheet\" type=\"text/css\" href=\"https://cdn.jsdelivr.net/gh/bmabey/pyLDAvis/pyLDAvis/js/ldavis.v1.0.0.css\">\n",
              "\n",
              "\n",
              "<div id=\"ldavis_el571399730431419687447363838\"></div>\n",
              "<script type=\"text/javascript\">\n",
              "\n",
              "var ldavis_el571399730431419687447363838_data = {\"mdsDat\": {\"x\": [-0.02434897447381132, -0.069985253131741, 0.09433422760555232], \"y\": [-0.08837892623869525, 0.06383353887974935, 0.02454538735894592], \"topics\": [1, 2, 3], \"cluster\": [1, 1, 1], \"Freq\": [39.097173615426456, 30.455595996953793, 30.447230387619744]}, \"tinfo\": {\"Term\": [\"schools\", \"heartbreaking\", \"caused\", \"parents\", \"education\", \"describe\", \"speech\", \"delayed\", \"tests\", \"masking\", \"kids\", \"wcpss\", \"children\", \"million\", \"new\", \"year\", \"nced\", \"relief\", \"know\", \"years\", \"two\", \"study\", \"county\", \"say\", \"upcoming\", \"based\", \"books\", \"mandates\", \"national\", \"cognitive\", \"shut\", \"dropout\", \"rates\", \"dropouts\", \"guidance\", \"issued\", \"reopening\", \"sel\", \"thanks\", \"shutdowns\", \"elementary\", \"levels\", \"wide\", \"uncovered\", \"emails\", \"combating\", \"talks\", \"superintendent\", \"risk\", \"evidence\", \"pm\", \"march\", \"towards\", \"join\", \"speaking\", \"legislation\", \"yesterday\", \"girls\", \"unions\", \"respiratory\", \"new\", \"schools\", \"instead\", \"two\", \"years\", \"going\", \"emotional\", \"data\", \"show\", \"help\", \"year\", \"covid\", \"loss\", \"learning\", \"kids\", \"students\", \"read\", \"get\", \"social\", \"school\", \"pandemic\", \"us\", \"student\", \"review\", \"right\", \"long\", \"children\", \"teachers\", \"education\", \"could\", \"tests\", \"wcpss\", \"nced\", \"upcoming\", \"based\", \"ncpol\", \"effect\", \"accelerated\", \"lasting\", \"legacy\", \"safetyism\", \"million\", \"vaccine\", \"staar\", \"shortages\", \"heures\", \"punched\", \"staffing\", \"tired\", \"fears\", \"seven\", \"florida\", \"desantis\", \"terms\", \"monkey\", \"leaders\", \"dollars\", \"relief\", \"county\", \"update\", \"says\", \"education\", \"wake\", \"money\", \"know\", \"learning\", \"covid\", \"loss\", \"first\", \"school\", \"board\", \"combat\", \"access\", \"better\", \"system\", \"evil\", \"still\", \"mental\", \"teachers\", \"closures\", \"pandemic\", \"schools\", \"state\", \"health\", \"year\", \"students\", \"getting\", \"due\", \"student\", \"children\", \"years\", \"long\", \"much\", \"heartbreaking\", \"describe\", \"speech\", \"delayed\", \"books\", \"mandates\", \"national\", \"cognitive\", \"symptoms\", \"area\", \"poverty\", \"memory\", \"latino\", \"concentration\", \"mass\", \"friends\", \"impaired\", \"develop\", \"including\", \"team\", \"response\", \"segregation\", \"amplify\", \"hinders\", \"educators\", \"study\", \"say\", \"masking\", \"eyes\", \"rolling\", \"caused\", \"academic\", \"parents\", \"math\", \"children\", \"learning\", \"recover\", \"covid\", \"loss\", \"mask\", \"crisis\", \"many\", \"worse\", \"see\", \"school\", \"kids\", \"due\", \"pandemic\", \"students\", \"live\", \"long\", \"education\", \"address\", \"could\"], \"Freq\": [32.0, 10.0, 16.0, 17.0, 31.0, 7.0, 7.0, 7.0, 6.0, 9.0, 28.0, 5.0, 29.0, 7.0, 14.0, 16.0, 5.0, 6.0, 9.0, 23.0, 15.0, 5.0, 5.0, 5.0, 4.0, 4.0, 4.0, 4.0, 4.0, 4.0, 4.790812560326833, 4.03439248902291, 4.034392042519773, 4.034249608019086, 4.034127266159561, 4.034127266159561, 4.034117889593684, 4.023526835185186, 3.9865661985145824, 3.2778534246329896, 3.2778529781298524, 3.2778520851235786, 3.277849852607894, 3.2778487363500517, 3.2775265843367407, 3.2774332651811178, 3.2774332651811178, 3.2774332651811178, 6.323751595141431, 6.315260444986017, 2.5213511967518674, 2.5213474014752033, 2.5213482944814776, 2.5213427131922654, 2.5213404806765807, 2.521340034173444, 2.521338694664033, 2.5213351226389373, 2.5213277553371776, 2.5213107882179733, 12.313092879850196, 24.485267583665827, 4.800282891861582, 11.56785592611437, 16.732839008213162, 6.056733789181462, 6.0475916374523715, 7.866686049179834, 5.554428922689009, 7.825152327380569, 10.529500379044915, 80.0148909685196, 76.88648281357911, 80.38119499802474, 16.172366838560574, 19.832245891402348, 7.032815543740236, 5.458018179345809, 6.043316369916058, 20.779071867421763, 13.896484090121536, 5.58139101461385, 6.3088401763797854, 5.532271651020909, 4.726764364349906, 6.40365645702093, 7.8585909473068964, 5.557908075132138, 6.5568445392589325, 4.800895047662344, 5.995304026531756, 5.2709051510779945, 4.556383827110442, 3.836889815597612, 3.836883902770566, 3.1174309332336994, 3.1174131947525625, 3.117392673764581, 3.1168980831728916, 3.1168980831728916, 3.1168973875461807, 6.034869882613491, 2.397937095627547, 2.3979257916934893, 2.397925443880134, 2.397925443880134, 2.397925443880134, 2.397925443880134, 2.397925096066778, 2.397925096066778, 2.397925096066778, 2.397920748399833, 2.397915183386143, 2.3978826628373926, 2.3978800542372256, 2.397877967357092, 2.3976623230766085, 5.293938047113761, 4.568476601858585, 2.250005640935934, 3.85052931633819, 19.05685096597258, 3.8471384839342657, 3.845747926138503, 5.999374138419204, 60.7948751899757, 54.631455578005756, 52.49865295132594, 4.575235310984963, 18.379360634351013, 3.8474776019559935, 3.136327285031095, 3.1359485162868266, 3.1269422372564417, 3.124108601848218, 3.1223615353629466, 4.298681955665607, 4.578383717480021, 6.008456240761113, 5.241032853217347, 8.466059500198263, 8.125242062414706, 4.58871690446209, 4.571827435726613, 5.574271785795334, 7.6297666335485514, 3.8449597810746714, 5.2048460038854465, 4.574550814301106, 5.235237239272677, 4.541188557230182, 4.246516908589949, 3.865507898497899, 9.571617930502443, 6.699397823603355, 6.699397128167719, 6.699393650989545, 3.828783477585433, 3.828695852695426, 3.8286833348539964, 3.8273567913802733, 3.8150733117596345, 3.815063575660745, 3.1108428500226153, 3.1108167711863035, 3.110751052518798, 3.0927121475830712, 2.3928803162372954, 2.392862582628603, 2.392860670180607, 2.392860670180607, 2.392860670180607, 2.39284085026501, 2.3928100772381624, 2.3927984286912767, 2.3927979071145504, 2.3927979071145504, 2.357204815880677, 4.556441427275816, 4.562996951288948, 7.401380289650303, 1.674918651746519, 1.6749184778876103, 12.458846233840019, 3.8453438863611944, 12.840704377522048, 3.859132288695928, 16.035781868831524, 72.69472701062851, 4.571979545668158, 66.98742584148077, 64.1870511900314, 4.542953800853211, 4.225046527292605, 3.8301677422168594, 3.8442496183895543, 5.294587937212957, 17.22224096085804, 10.339440069855419, 7.436338448149441, 9.95355396297559, 10.180699236379418, 4.549445344787925, 5.479834604480556, 6.350504719890613, 4.545782833016307, 4.2426215766598006], \"Total\": [32.0, 10.0, 16.0, 17.0, 31.0, 7.0, 7.0, 7.0, 6.0, 9.0, 28.0, 5.0, 29.0, 7.0, 14.0, 16.0, 5.0, 6.0, 9.0, 23.0, 15.0, 5.0, 5.0, 5.0, 4.0, 4.0, 4.0, 4.0, 4.0, 4.0, 5.270266602578224, 4.513740244139087, 4.513740080156677, 4.513728362553382, 4.5137269213768185, 4.513727008300301, 4.513726304046187, 4.5131352030287175, 4.511111618214616, 3.7572046356547557, 3.757204341248308, 3.7572044479367306, 3.7572044103778266, 3.7572045112159413, 3.7571868529432257, 3.7571699344317335, 3.7571699561640974, 3.757169977902432, 7.50210618366201, 7.503163401292119, 3.0006702825394522, 3.0006691178341636, 3.0006704050742314, 3.000669733967629, 3.000668848094182, 3.000669489964738, 3.0006692801262256, 3.00066929466363, 3.0006687762688715, 3.0006670420676476, 14.98855094527254, 32.85539702553049, 5.988508052545654, 15.67291635944861, 23.836880869956097, 8.207049457385102, 8.207269763467167, 11.174930409198868, 7.462895649362634, 11.168490780918582, 16.343343156184435, 201.63377238800615, 193.57218695493646, 213.87079719862896, 28.10988336904812, 37.64271176133032, 10.410072631402548, 7.459262942866233, 8.926546885127468, 56.380673462630824, 32.31609755329539, 8.901446736435666, 12.536039359370651, 9.615620555300818, 6.702687934207333, 16.130007970091434, 29.1296100554111, 13.2187400738141, 31.964200225122124, 11.017756881095876, 6.486966735539419, 5.767457350979673, 5.048009232018614, 4.328530505546573, 4.328529793420809, 3.6090514589750113, 3.6090505989097386, 3.60905010581746, 3.609043016992906, 3.609043060457633, 3.6090426256192853, 7.204820265167328, 2.889569529227208, 2.889569683468748, 2.8895697542520837, 2.8895697821585298, 2.8895697821585298, 2.8895697821585298, 2.88956946225162, 2.8895694684257025, 2.889569490158066, 2.8895693163458476, 2.8895700337489543, 2.8895693402822715, 2.8895697671683016, 2.889570347870117, 2.8895805764355087, 6.522817670408584, 5.803647340686905, 2.8891194277195265, 5.046316114994939, 31.964200225122124, 5.084262873496088, 5.084334280545354, 9.5123942284847, 213.87079719862896, 201.63377238800615, 193.57218695493646, 7.315250865952096, 56.380673462630824, 5.840794707856279, 4.326848099241629, 4.326847347485418, 4.326829251393977, 4.326832277833604, 4.326820131212484, 7.20116912866618, 7.995877263221939, 13.2187400738141, 10.949303244625868, 32.31609755329539, 32.85539702553049, 9.583603420624327, 9.509481055762759, 16.343343156184435, 37.64271176133032, 6.5974621886565465, 16.73207610849828, 12.536039359370651, 29.1296100554111, 23.836880869956097, 16.130007970091434, 8.03359695569865, 10.064700064390058, 7.192861875944727, 7.192862805251075, 7.192863011723779, 4.320955792851042, 4.320953896894681, 4.320953396024312, 4.32102115449024, 4.3209175224403085, 4.320917545483842, 3.602991337633516, 3.602990697593322, 3.602990482664997, 3.6029456206211368, 2.8850254107631197, 2.885025186621293, 2.885025256406575, 2.8850253060513555, 2.8850253618642476, 2.8850246997599647, 2.885024859630008, 2.885024318578015, 2.885024113674198, 2.885024228533983, 2.884983109408588, 5.758171962500095, 5.794302320608053, 9.424507947909573, 2.1670582557461886, 2.16705822141951, 16.683829679228587, 5.040194487412807, 17.411123262895394, 5.075568559461187, 29.1296100554111, 213.87079719862896, 6.513733339317024, 201.63377238800615, 193.57218695493646, 6.551241321021287, 6.47836558354213, 5.759932977557879, 5.832929356368537, 9.426531978720071, 56.380673462630824, 28.10988336904812, 16.73207610849828, 32.31609755329539, 37.64271176133032, 7.916640397380178, 16.130007970091434, 31.964200225122124, 12.419025937105022, 11.017756881095876], \"Category\": [\"Default\", \"Default\", \"Default\", \"Default\", \"Default\", \"Default\", \"Default\", \"Default\", \"Default\", \"Default\", \"Default\", \"Default\", \"Default\", \"Default\", \"Default\", \"Default\", \"Default\", \"Default\", \"Default\", \"Default\", \"Default\", \"Default\", \"Default\", \"Default\", \"Default\", \"Default\", \"Default\", \"Default\", \"Default\", \"Default\", \"Topic1\", \"Topic1\", \"Topic1\", \"Topic1\", \"Topic1\", \"Topic1\", \"Topic1\", \"Topic1\", \"Topic1\", \"Topic1\", \"Topic1\", \"Topic1\", \"Topic1\", \"Topic1\", \"Topic1\", \"Topic1\", \"Topic1\", \"Topic1\", \"Topic1\", \"Topic1\", \"Topic1\", \"Topic1\", \"Topic1\", \"Topic1\", \"Topic1\", \"Topic1\", \"Topic1\", \"Topic1\", \"Topic1\", \"Topic1\", \"Topic1\", \"Topic1\", \"Topic1\", \"Topic1\", \"Topic1\", \"Topic1\", \"Topic1\", \"Topic1\", \"Topic1\", \"Topic1\", \"Topic1\", \"Topic1\", \"Topic1\", \"Topic1\", \"Topic1\", \"Topic1\", \"Topic1\", \"Topic1\", \"Topic1\", \"Topic1\", \"Topic1\", \"Topic1\", \"Topic1\", \"Topic1\", \"Topic1\", \"Topic1\", \"Topic1\", \"Topic1\", \"Topic1\", \"Topic1\", \"Topic2\", \"Topic2\", \"Topic2\", \"Topic2\", \"Topic2\", \"Topic2\", \"Topic2\", \"Topic2\", \"Topic2\", \"Topic2\", \"Topic2\", \"Topic2\", \"Topic2\", \"Topic2\", \"Topic2\", \"Topic2\", \"Topic2\", \"Topic2\", \"Topic2\", \"Topic2\", \"Topic2\", \"Topic2\", \"Topic2\", \"Topic2\", \"Topic2\", \"Topic2\", \"Topic2\", \"Topic2\", \"Topic2\", \"Topic2\", \"Topic2\", \"Topic2\", \"Topic2\", \"Topic2\", \"Topic2\", \"Topic2\", \"Topic2\", \"Topic2\", \"Topic2\", \"Topic2\", \"Topic2\", \"Topic2\", \"Topic2\", \"Topic2\", \"Topic2\", \"Topic2\", \"Topic2\", \"Topic2\", \"Topic2\", \"Topic2\", \"Topic2\", \"Topic2\", \"Topic2\", \"Topic2\", \"Topic2\", \"Topic2\", \"Topic2\", \"Topic2\", \"Topic2\", \"Topic2\", \"Topic2\", \"Topic2\", \"Topic2\", \"Topic3\", \"Topic3\", \"Topic3\", \"Topic3\", \"Topic3\", \"Topic3\", \"Topic3\", \"Topic3\", \"Topic3\", \"Topic3\", \"Topic3\", \"Topic3\", \"Topic3\", \"Topic3\", \"Topic3\", \"Topic3\", \"Topic3\", \"Topic3\", \"Topic3\", \"Topic3\", \"Topic3\", \"Topic3\", \"Topic3\", \"Topic3\", \"Topic3\", \"Topic3\", \"Topic3\", \"Topic3\", \"Topic3\", \"Topic3\", \"Topic3\", \"Topic3\", \"Topic3\", \"Topic3\", \"Topic3\", \"Topic3\", \"Topic3\", \"Topic3\", \"Topic3\", \"Topic3\", \"Topic3\", \"Topic3\", \"Topic3\", \"Topic3\", \"Topic3\", \"Topic3\", \"Topic3\", \"Topic3\", \"Topic3\", \"Topic3\", \"Topic3\", \"Topic3\", \"Topic3\", \"Topic3\"], \"logprob\": [30.0, 29.0, 28.0, 27.0, 26.0, 25.0, 24.0, 23.0, 22.0, 21.0, 20.0, 19.0, 18.0, 17.0, 16.0, 15.0, 14.0, 13.0, 12.0, 11.0, 10.0, 9.0, 8.0, 7.0, 6.0, 5.0, 4.0, 3.0, 2.0, 1.0, -5.9922, -6.164, -6.164, -6.1641, -6.1641, -6.1641, -6.1641, -6.1667, -6.176, -6.3717, -6.3717, -6.3717, -6.3717, -6.3717, -6.3718, -6.3718, -6.3718, -6.3718, -5.7146, -5.7159, -6.6341, -6.6341, -6.6341, -6.6341, -6.6341, -6.6341, -6.6341, -6.6341, -6.6341, -6.6341, -5.0482, -4.3608, -5.9902, -5.1107, -4.7415, -5.7577, -5.7592, -5.4963, -5.8443, -5.5015, -5.2047, -3.1767, -3.2166, -3.1721, -4.7756, -4.5716, -5.6083, -5.8618, -5.7599, -4.5249, -4.9273, -5.8395, -5.7169, -5.8483, -6.0056, -5.702, -5.4973, -5.8437, -5.6784, -5.9901, -5.5181, -5.6469, -5.7926, -5.9644, -5.9644, -6.1721, -6.1721, -6.1721, -6.1723, -6.1723, -6.1723, -5.5116, -6.4345, -6.4345, -6.4345, -6.4345, -6.4345, -6.4345, -6.4345, -6.4345, -6.4345, -6.4345, -6.4345, -6.4345, -6.4345, -6.4345, -6.4346, -5.6425, -5.7899, -6.4982, -5.9609, -4.3617, -5.9618, -5.9621, -5.5175, -3.2016, -3.3085, -3.3483, -5.7885, -4.3979, -5.9617, -6.1661, -6.1662, -6.1691, -6.17, -6.1705, -5.8508, -5.7878, -5.5159, -5.6526, -5.173, -5.2141, -5.7855, -5.7892, -5.5909, -5.2771, -5.9623, -5.6595, -5.7886, -5.6537, -5.7959, -5.863, -5.957, -5.05, -5.4068, -5.4068, -5.4068, -5.9663, -5.9663, -5.9663, -5.9667, -5.9699, -5.9699, -6.1739, -6.1739, -6.174, -6.1798, -6.4363, -6.4363, -6.4363, -6.4363, -6.4363, -6.4364, -6.4364, -6.4364, -6.4364, -6.4364, -6.4514, -5.7923, -5.7909, -5.3072, -6.7931, -6.7931, -4.7864, -5.962, -4.7562, -5.9584, -4.534, -3.0226, -5.7889, -3.1043, -3.147, -5.7953, -5.8678, -5.9659, -5.9623, -5.6422, -4.4626, -4.9729, -5.3025, -5.0109, -4.9883, -5.7938, -5.6078, -5.4603, -5.7946, -5.8637], \"loglift\": [30.0, 29.0, 28.0, 27.0, 26.0, 25.0, 24.0, 23.0, 22.0, 21.0, 20.0, 19.0, 18.0, 17.0, 16.0, 15.0, 14.0, 13.0, 12.0, 11.0, 10.0, 9.0, 8.0, 7.0, 6.0, 5.0, 4.0, 3.0, 2.0, 1.0, 0.8437, 0.8268, 0.8268, 0.8268, 0.8268, 0.8268, 0.8268, 0.8243, 0.8155, 0.8026, 0.8026, 0.8026, 0.8026, 0.8026, 0.8025, 0.8025, 0.8025, 0.8025, 0.7682, 0.7668, 0.7651, 0.7651, 0.7651, 0.7651, 0.7651, 0.7651, 0.7651, 0.7651, 0.7651, 0.7651, 0.7425, 0.6451, 0.718, 0.6354, 0.5853, 0.6353, 0.6338, 0.5881, 0.6438, 0.5834, 0.4995, 0.0149, 0.0158, -0.0395, 0.3863, 0.2983, 0.5469, 0.6267, 0.549, -0.0591, 0.0952, 0.4723, 0.2525, 0.3863, 0.5899, 0.0153, -0.371, 0.0727, -0.645, 0.1084, 1.1101, 1.0989, 1.0864, 1.0683, 1.0683, 1.0425, 1.0425, 1.0425, 1.0423, 1.0423, 1.0423, 1.0117, 1.0024, 1.0024, 1.0024, 1.0024, 1.0024, 1.0024, 1.0024, 1.0024, 1.0024, 1.0024, 1.0024, 1.0024, 1.0024, 1.0024, 1.0023, 0.9802, 0.9496, 0.9389, 0.9185, 0.6717, 0.9101, 0.9097, 0.728, -0.069, -0.1169, -0.116, 0.7196, 0.068, 0.7715, 0.8671, 0.867, 0.8641, 0.8632, 0.8627, 0.673, 0.6313, 0.4004, 0.4521, -0.1506, -0.2082, 0.4524, 0.4565, 0.1132, -0.4072, 0.649, 0.0212, 0.1808, -0.5274, -0.4691, -0.1457, 0.4574, 1.1389, 1.1181, 1.1181, 1.1181, 1.0682, 1.0682, 1.0682, 1.0679, 1.0647, 1.0647, 1.0423, 1.0423, 1.0423, 1.0365, 1.0021, 1.0021, 1.0021, 1.0021, 1.0021, 1.0021, 1.0021, 1.0021, 1.0021, 1.0021, 0.9871, 0.9551, 0.9503, 0.9475, 0.9316, 0.9316, 0.8972, 0.9186, 0.8847, 0.9152, 0.5922, 0.1101, 0.8352, 0.0872, 0.0853, 0.8231, 0.7617, 0.7812, 0.7722, 0.6123, 0.0033, 0.189, 0.3782, 0.0115, -0.1185, 0.6352, 0.1096, -0.4269, 0.1841, 0.2348]}, \"token.table\": {\"Topic\": [2, 3, 2, 2, 3, 1, 2, 3, 3, 3, 2, 2, 3, 1, 2, 3, 1, 2, 3, 1, 2, 3, 1, 2, 3, 3, 2, 3, 1, 3, 1, 2, 3, 1, 2, 1, 2, 3, 2, 3, 1, 2, 3, 3, 2, 3, 3, 2, 1, 1, 1, 2, 3, 1, 2, 3, 3, 2, 1, 1, 1, 2, 3, 1, 2, 2, 3, 3, 2, 1, 2, 2, 3, 1, 2, 3, 1, 2, 1, 1, 2, 3, 1, 1, 2, 3, 3, 1, 3, 2, 3, 3, 3, 1, 3, 1, 1, 1, 2, 3, 1, 2, 2, 3, 2, 1, 2, 3, 2, 1, 1, 2, 3, 1, 2, 3, 1, 2, 3, 3, 2, 3, 1, 1, 3, 1, 3, 3, 1, 3, 3, 1, 2, 3, 2, 3, 1, 2, 2, 1, 2, 3, 3, 2, 2, 1, 2, 3, 1, 2, 3, 1, 2, 3, 1, 3, 2, 1, 1, 3, 1, 2, 3, 1, 2, 1, 1, 3, 1, 3, 1, 3, 1, 3, 3, 2, 1, 3, 2, 3, 1, 2, 3, 1, 2, 1, 2, 3, 3, 1, 2, 2, 1, 3, 1, 1, 1, 2, 3, 1, 3, 2, 2, 1, 2, 2, 3, 1, 2, 3, 1, 2, 3, 2, 3, 1, 3, 2, 3, 1, 1, 2, 3, 3, 2, 2, 1, 2, 1, 1, 2, 3, 1, 1, 2, 2, 1, 2, 3, 2, 1, 2, 2, 1, 1, 3, 1, 2, 1, 2, 3, 1], \"Freq\": [0.19840504220568525, 0.793620168822741, 0.8312436547124334, 0.6933454682064237, 0.23111515606880792, 0.3220864518890306, 0.3220864518890306, 0.40260806486128825, 0.6932351069512958, 0.9257293058463335, 0.9241012978771312, 0.693348367984128, 0.231116122661376, 0.3424191569872948, 0.6848383139745896, 0.9257211116619015, 0.17981483014868033, 0.05993827671622677, 0.7192593205947213, 0.2746346409987018, 0.1716466506241886, 0.5492692819974035, 0.2739900368977778, 0.45665006149629633, 0.18266002459851854, 0.9257071088030552, 0.6933453477430402, 0.23111511591434675, 0.7984733329486056, 0.8326520341660913, 0.45381288169272777, 0.1815251526770911, 0.3630503053541822, 0.17230543851095587, 0.8615271925547793, 0.3967589310686262, 0.27277176510968054, 0.33228560476997443, 0.3087198420973449, 0.6174396841946898, 0.7158881270002934, 0.17897203175007334, 0.08948601587503667, 0.9731868921444176, 0.6921444978459933, 0.9731870458141675, 0.6932348204381396, 0.6921419725443801, 0.8861830286299354, 0.8861853613488673, 0.23906178612039578, 0.2988272326504947, 0.41835812571069264, 0.21899499911461512, 0.5944149975968125, 0.18770999924109869, 0.6932449599020333, 0.8312435411424469, 0.7984660208827685, 0.7984697374446318, 0.73105919177991, 0.121843198629985, 0.121843198629985, 0.7996627127921458, 0.13327711879869097, 0.6933498294414481, 0.23111660981381604, 0.9229101223729378, 0.6921446332590306, 0.2734014234985085, 0.6835035587462712, 0.692144669687039, 0.693234849135663, 0.670307514066362, 0.1340615028132724, 0.1340615028132724, 0.4547203021728716, 0.6062937362304955, 0.9997769515405045, 0.7310788159806821, 0.12184646933011369, 0.12184646933011369, 0.8861856442967717, 0.31547462815355165, 0.525791046922586, 0.21031641876903442, 0.9935715854445605, 0.7163009001778501, 0.2686128375666938, 0.6921445581099569, 0.6932350793519313, 0.693234832367148, 0.693234807027013, 0.8349325000697879, 0.16698650001395757, 0.8861856272309762, 0.9997768051711764, 0.5691948198411114, 0.07114935248013893, 0.35574676240069464, 0.3153780139826997, 0.6307560279653994, 0.8312452874279211, 0.8326416665361304, 0.6921444226039302, 0.37405761351186867, 0.2852189303027999, 0.34132757232958016, 0.8312452774169989, 0.9997768864691773, 0.7984659982097728, 0.37894862585810746, 0.6315810430968457, 0.37197749753907833, 0.24798499835938553, 0.30998124794923193, 0.3977844194007354, 0.2686336338810161, 0.33062601093048133, 0.92572151785157, 0.34722626249168065, 0.6944525249833613, 0.9997770104573721, 0.3052856553432863, 0.7632141383582156, 0.21221267052394124, 0.7427443468337944, 0.6932347952772377, 0.19702226229137138, 0.7880890491654855, 0.8326416168667603, 0.25012890195291715, 0.625322254882293, 0.25012890195291715, 0.8327758055267258, 0.13879596758778764, 0.19668258317050277, 0.7867303326820111, 0.6921445617005969, 0.373431728843696, 0.49790897179159466, 0.24895448589579733, 0.9257216251580913, 0.9904894722232084, 0.8312433430505907, 0.800611082673396, 0.066717590222783, 0.133435180445566, 0.43322062563127667, 0.2475546432178724, 0.3094433040223405, 0.1723036448999967, 0.0574345482999989, 0.7466491278999857, 0.9997766223955519, 0.8326414689551912, 0.6921445581099569, 0.8861830608246178, 0.672425663859839, 0.28818242736850247, 0.1535217897183448, 0.1535217897183448, 0.767608948591724, 0.15330797985303196, 0.7665398992651598, 0.8861857654980824, 0.9997777020714741, 0.6932349277075177, 0.6239846888189, 0.4159897925459334, 0.7459693855777436, 0.2983877542310975, 0.7997754034815879, 0.13329590058026464, 0.922910136992037, 0.8312453775702419, 0.17258333180914526, 0.8629166590457263, 0.7926574373955984, 0.1981643593488996, 0.3724680588272651, 0.31925833613765575, 0.301521761907786, 0.7304735955968101, 0.24349119853227005, 0.21216710498780472, 0.21216710498780472, 0.5304177624695119, 0.6932350577154822, 0.8863018323305808, 0.6921446280534321, 0.6921445647944451, 0.8039774749513519, 0.26799249165045064, 0.9487186089512039, 0.7984659583166941, 0.6721524097965147, 0.22405080326550492, 0.11202540163275246, 0.9997771003306123, 0.9731869200799608, 0.6921445817493229, 0.6921445581099569, 0.5217244266639608, 0.5217244266639608, 0.5554653596562439, 0.4165990197421829, 0.4786200671518328, 0.39885005595986067, 0.15954002238394427, 0.5313113499050736, 0.2125245399620294, 0.2656556749525368, 0.1736662271485581, 0.8683311357427905, 0.7984733237102176, 0.925729310783265, 0.6933478830157166, 0.23111596100523887, 0.798473328330046, 0.453901050061935, 0.453901050061935, 0.15130035002064499, 0.6932349661222661, 0.6921446639534967, 0.9249315195541964, 0.8866994077134138, 0.6921446347379216, 0.9997765815688728, 0.7656520155398936, 0.1914130038849734, 0.06380433462832447, 0.7984659847619293, 0.9997771242617111, 0.9241011458448555, 0.6922524492449463, 0.6740477337735025, 0.1123412889622504, 0.2246825779245008, 0.6921446186951188, 0.1966853455223433, 0.7867413820893732, 0.8669331554139171, 0.7984660061916403, 0.34288088845381787, 0.6857617769076357, 0.6730569073217755, 0.3671219494482411, 0.7131805580077688, 0.20975898764934378, 0.12585539258960626, 0.9997769563841445], \"Term\": [\"academic\", \"academic\", \"accelerated\", \"access\", \"access\", \"address\", \"address\", \"address\", \"amplify\", \"area\", \"based\", \"better\", \"better\", \"board\", \"board\", \"books\", \"caused\", \"caused\", \"caused\", \"children\", \"children\", \"children\", \"closures\", \"closures\", \"closures\", \"cognitive\", \"combat\", \"combat\", \"combating\", \"concentration\", \"could\", \"could\", \"could\", \"county\", \"county\", \"covid\", \"covid\", \"covid\", \"crisis\", \"crisis\", \"data\", \"data\", \"data\", \"delayed\", \"desantis\", \"describe\", \"develop\", \"dollars\", \"dropout\", \"dropouts\", \"due\", \"due\", \"due\", \"education\", \"education\", \"education\", \"educators\", \"effect\", \"elementary\", \"emails\", \"emotional\", \"emotional\", \"emotional\", \"evidence\", \"evidence\", \"evil\", \"evil\", \"eyes\", \"fears\", \"first\", \"first\", \"florida\", \"friends\", \"get\", \"get\", \"get\", \"getting\", \"getting\", \"girls\", \"going\", \"going\", \"going\", \"guidance\", \"health\", \"health\", \"health\", \"heartbreaking\", \"help\", \"help\", \"heures\", \"hinders\", \"impaired\", \"including\", \"instead\", \"instead\", \"issued\", \"join\", \"kids\", \"kids\", \"kids\", \"know\", \"know\", \"lasting\", \"latino\", \"leaders\", \"learning\", \"learning\", \"learning\", \"legacy\", \"legislation\", \"levels\", \"live\", \"live\", \"long\", \"long\", \"long\", \"loss\", \"loss\", \"loss\", \"mandates\", \"many\", \"many\", \"march\", \"mask\", \"mask\", \"masking\", \"masking\", \"mass\", \"math\", \"math\", \"memory\", \"mental\", \"mental\", \"mental\", \"million\", \"million\", \"money\", \"money\", \"monkey\", \"much\", \"much\", \"much\", \"national\", \"nced\", \"ncpol\", \"new\", \"new\", \"new\", \"pandemic\", \"pandemic\", \"pandemic\", \"parents\", \"parents\", \"parents\", \"pm\", \"poverty\", \"punched\", \"rates\", \"read\", \"read\", \"recover\", \"recover\", \"recover\", \"relief\", \"relief\", \"reopening\", \"respiratory\", \"response\", \"review\", \"review\", \"right\", \"right\", \"risk\", \"risk\", \"rolling\", \"safetyism\", \"say\", \"say\", \"says\", \"says\", \"school\", \"school\", \"school\", \"schools\", \"schools\", \"see\", \"see\", \"see\", \"segregation\", \"sel\", \"seven\", \"shortages\", \"show\", \"show\", \"shut\", \"shutdowns\", \"social\", \"social\", \"social\", \"speaking\", \"speech\", \"staar\", \"staffing\", \"state\", \"state\", \"still\", \"still\", \"student\", \"student\", \"student\", \"students\", \"students\", \"students\", \"study\", \"study\", \"superintendent\", \"symptoms\", \"system\", \"system\", \"talks\", \"teachers\", \"teachers\", \"teachers\", \"team\", \"terms\", \"tests\", \"thanks\", \"tired\", \"towards\", \"two\", \"two\", \"two\", \"uncovered\", \"unions\", \"upcoming\", \"update\", \"us\", \"us\", \"us\", \"vaccine\", \"wake\", \"wake\", \"wcpss\", \"wide\", \"worse\", \"worse\", \"year\", \"year\", \"years\", \"years\", \"years\", \"yesterday\"]}, \"R\": 30, \"lambda.step\": 0.01, \"plot.opts\": {\"xlab\": \"PC1\", \"ylab\": \"PC2\"}, \"topic.order\": [3, 2, 1]};\n",
              "\n",
              "function LDAvis_load_lib(url, callback){\n",
              "  var s = document.createElement('script');\n",
              "  s.src = url;\n",
              "  s.async = true;\n",
              "  s.onreadystatechange = s.onload = callback;\n",
              "  s.onerror = function(){console.warn(\"failed to load library \" + url);};\n",
              "  document.getElementsByTagName(\"head\")[0].appendChild(s);\n",
              "}\n",
              "\n",
              "if(typeof(LDAvis) !== \"undefined\"){\n",
              "   // already loaded: just create the visualization\n",
              "   !function(LDAvis){\n",
              "       new LDAvis(\"#\" + \"ldavis_el571399730431419687447363838\", ldavis_el571399730431419687447363838_data);\n",
              "   }(LDAvis);\n",
              "}else if(typeof define === \"function\" && define.amd){\n",
              "   // require.js is available: use it to load d3/LDAvis\n",
              "   require.config({paths: {d3: \"https://d3js.org/d3.v5\"}});\n",
              "   require([\"d3\"], function(d3){\n",
              "      window.d3 = d3;\n",
              "      LDAvis_load_lib(\"https://cdn.jsdelivr.net/gh/bmabey/pyLDAvis/pyLDAvis/js/ldavis.v3.0.0.js\", function(){\n",
              "        new LDAvis(\"#\" + \"ldavis_el571399730431419687447363838\", ldavis_el571399730431419687447363838_data);\n",
              "      });\n",
              "    });\n",
              "}else{\n",
              "    // require.js not available: dynamically load d3 & LDAvis\n",
              "    LDAvis_load_lib(\"https://d3js.org/d3.v5.js\", function(){\n",
              "         LDAvis_load_lib(\"https://cdn.jsdelivr.net/gh/bmabey/pyLDAvis/pyLDAvis/js/ldavis.v3.0.0.js\", function(){\n",
              "                 new LDAvis(\"#\" + \"ldavis_el571399730431419687447363838\", ldavis_el571399730431419687447363838_data);\n",
              "            })\n",
              "         });\n",
              "}\n",
              "</script>"
            ]
          },
          "metadata": {},
          "execution_count": 38
        }
      ]
    }
  ]
}