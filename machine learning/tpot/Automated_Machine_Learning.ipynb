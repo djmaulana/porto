{
  "nbformat": 4,
  "nbformat_minor": 0,
  "metadata": {
    "colab": {
      "provenance": []
    },
    "kernelspec": {
      "name": "python3",
      "display_name": "Python 3"
    },
    "language_info": {
      "name": "python"
    }
  },
  "cells": [
    {
      "cell_type": "code",
      "execution_count": null,
      "metadata": {
        "id": "uCosRQevu63R"
      },
      "outputs": [],
      "source": [
        "import pandas as pd\n",
        "import seaborn as sns\n",
        "import matplotlib.pyplot as plt\n",
        "from sklearn.preprocessing import StandardScaler\n",
        "from sklearn.model_selection import train_test_split\n",
        "from sklearn.metrics import f1_score, precision_score, accuracy_score, recall_score, balanced_accuracy_score\n",
        "from sklearn.metrics import classification_report, confusion_matrix"
      ]
    },
    {
      "cell_type": "markdown",
      "source": [
        "## Exploration & Preprocessing Data"
      ],
      "metadata": {
        "id": "4MS3ZFL4wpaj"
      }
    },
    {
      "cell_type": "code",
      "source": [
        "dwn_url_test='https://drive.google.com/uc?id=' + '1MVJqOW4RkG796RDLpwDe0zZwY6z13xK7'\n",
        "df_test = pd.read_csv(dwn_url_test)\n",
        "\n",
        "dwn_url_train='https://drive.google.com/uc?id=' + '1uGVFv10T-lgFBM4dieQPxVbg5CRSarYK'\n",
        "df_train = pd.read_csv(dwn_url_train)\n"
      ],
      "metadata": {
        "id": "dTWTHl3qu9nl"
      },
      "execution_count": null,
      "outputs": []
    },
    {
      "cell_type": "code",
      "source": [
        "df_train.head()"
      ],
      "metadata": {
        "id": "9QuN8TCuvwrl",
        "colab": {
          "base_uri": "https://localhost:8080/",
          "height": 317
        },
        "outputId": "33f815f4-5363-4af4-9557-12d43daeef70"
      },
      "execution_count": null,
      "outputs": [
        {
          "output_type": "execute_result",
          "data": {
            "text/plain": [
              "         id diagnosis  radius_mean  texture_mean  perimeter_mean  area_mean  \\\n",
              "0    842302         M        17.99         10.38          122.80     1001.0   \n",
              "1    842517         M        20.57         17.77          132.90     1326.0   \n",
              "2  84300903         M        19.69         21.25          130.00     1203.0   \n",
              "3  84348301         M        11.42         20.38           77.58      386.1   \n",
              "4  84358402         M        20.29         14.34          135.10     1297.0   \n",
              "\n",
              "   smoothness_mean  compactness_mean concavity_mean concave points_mean  ...  \\\n",
              "0          0.11840           0.27760         0.3001              0.1471  ...   \n",
              "1          0.08474           0.07864         0.0869             0.07017  ...   \n",
              "2          0.10960           0.15990         0.1974              0.1279  ...   \n",
              "3          0.14250           0.28390         0.2414              0.1052  ...   \n",
              "4          0.10030           0.13280          0.198              0.1043  ...   \n",
              "\n",
              "   radius_worst  texture_worst  perimeter_worst  area_worst  smoothness_worst  \\\n",
              "0         25.38          17.33           184.60      2019.0            0.1622   \n",
              "1         24.99          23.41           158.80      1956.0            0.1238   \n",
              "2         23.57          25.53           152.50      1709.0            0.1444   \n",
              "3         14.91          26.50            98.87       567.7            0.2098   \n",
              "4         22.54          16.67           152.20      1575.0            0.1374   \n",
              "\n",
              "   compactness_worst  concavity_worst  concave points_worst symmetry_worst  \\\n",
              "0             0.6656           0.7119                0.2654         0.4601   \n",
              "1             0.1866           0.2416                 0.186         0.2750   \n",
              "2             0.4245           0.4504                 0.243         0.3613   \n",
              "3             0.8663           0.6869                0.2575         0.6638   \n",
              "4             0.2050              0.4                0.1625         0.2364   \n",
              "\n",
              "  fractal_dimension_worst  \n",
              "0                 0.11890  \n",
              "1                 0.08902  \n",
              "2                 0.08758  \n",
              "3                 0.17300  \n",
              "4                 0.07678  \n",
              "\n",
              "[5 rows x 32 columns]"
            ],
            "text/html": [
              "\n",
              "  <div id=\"df-5b09a3fb-939a-465a-9e19-242261581250\">\n",
              "    <div class=\"colab-df-container\">\n",
              "      <div>\n",
              "<style scoped>\n",
              "    .dataframe tbody tr th:only-of-type {\n",
              "        vertical-align: middle;\n",
              "    }\n",
              "\n",
              "    .dataframe tbody tr th {\n",
              "        vertical-align: top;\n",
              "    }\n",
              "\n",
              "    .dataframe thead th {\n",
              "        text-align: right;\n",
              "    }\n",
              "</style>\n",
              "<table border=\"1\" class=\"dataframe\">\n",
              "  <thead>\n",
              "    <tr style=\"text-align: right;\">\n",
              "      <th></th>\n",
              "      <th>id</th>\n",
              "      <th>diagnosis</th>\n",
              "      <th>radius_mean</th>\n",
              "      <th>texture_mean</th>\n",
              "      <th>perimeter_mean</th>\n",
              "      <th>area_mean</th>\n",
              "      <th>smoothness_mean</th>\n",
              "      <th>compactness_mean</th>\n",
              "      <th>concavity_mean</th>\n",
              "      <th>concave points_mean</th>\n",
              "      <th>...</th>\n",
              "      <th>radius_worst</th>\n",
              "      <th>texture_worst</th>\n",
              "      <th>perimeter_worst</th>\n",
              "      <th>area_worst</th>\n",
              "      <th>smoothness_worst</th>\n",
              "      <th>compactness_worst</th>\n",
              "      <th>concavity_worst</th>\n",
              "      <th>concave points_worst</th>\n",
              "      <th>symmetry_worst</th>\n",
              "      <th>fractal_dimension_worst</th>\n",
              "    </tr>\n",
              "  </thead>\n",
              "  <tbody>\n",
              "    <tr>\n",
              "      <th>0</th>\n",
              "      <td>842302</td>\n",
              "      <td>M</td>\n",
              "      <td>17.99</td>\n",
              "      <td>10.38</td>\n",
              "      <td>122.80</td>\n",
              "      <td>1001.0</td>\n",
              "      <td>0.11840</td>\n",
              "      <td>0.27760</td>\n",
              "      <td>0.3001</td>\n",
              "      <td>0.1471</td>\n",
              "      <td>...</td>\n",
              "      <td>25.38</td>\n",
              "      <td>17.33</td>\n",
              "      <td>184.60</td>\n",
              "      <td>2019.0</td>\n",
              "      <td>0.1622</td>\n",
              "      <td>0.6656</td>\n",
              "      <td>0.7119</td>\n",
              "      <td>0.2654</td>\n",
              "      <td>0.4601</td>\n",
              "      <td>0.11890</td>\n",
              "    </tr>\n",
              "    <tr>\n",
              "      <th>1</th>\n",
              "      <td>842517</td>\n",
              "      <td>M</td>\n",
              "      <td>20.57</td>\n",
              "      <td>17.77</td>\n",
              "      <td>132.90</td>\n",
              "      <td>1326.0</td>\n",
              "      <td>0.08474</td>\n",
              "      <td>0.07864</td>\n",
              "      <td>0.0869</td>\n",
              "      <td>0.07017</td>\n",
              "      <td>...</td>\n",
              "      <td>24.99</td>\n",
              "      <td>23.41</td>\n",
              "      <td>158.80</td>\n",
              "      <td>1956.0</td>\n",
              "      <td>0.1238</td>\n",
              "      <td>0.1866</td>\n",
              "      <td>0.2416</td>\n",
              "      <td>0.186</td>\n",
              "      <td>0.2750</td>\n",
              "      <td>0.08902</td>\n",
              "    </tr>\n",
              "    <tr>\n",
              "      <th>2</th>\n",
              "      <td>84300903</td>\n",
              "      <td>M</td>\n",
              "      <td>19.69</td>\n",
              "      <td>21.25</td>\n",
              "      <td>130.00</td>\n",
              "      <td>1203.0</td>\n",
              "      <td>0.10960</td>\n",
              "      <td>0.15990</td>\n",
              "      <td>0.1974</td>\n",
              "      <td>0.1279</td>\n",
              "      <td>...</td>\n",
              "      <td>23.57</td>\n",
              "      <td>25.53</td>\n",
              "      <td>152.50</td>\n",
              "      <td>1709.0</td>\n",
              "      <td>0.1444</td>\n",
              "      <td>0.4245</td>\n",
              "      <td>0.4504</td>\n",
              "      <td>0.243</td>\n",
              "      <td>0.3613</td>\n",
              "      <td>0.08758</td>\n",
              "    </tr>\n",
              "    <tr>\n",
              "      <th>3</th>\n",
              "      <td>84348301</td>\n",
              "      <td>M</td>\n",
              "      <td>11.42</td>\n",
              "      <td>20.38</td>\n",
              "      <td>77.58</td>\n",
              "      <td>386.1</td>\n",
              "      <td>0.14250</td>\n",
              "      <td>0.28390</td>\n",
              "      <td>0.2414</td>\n",
              "      <td>0.1052</td>\n",
              "      <td>...</td>\n",
              "      <td>14.91</td>\n",
              "      <td>26.50</td>\n",
              "      <td>98.87</td>\n",
              "      <td>567.7</td>\n",
              "      <td>0.2098</td>\n",
              "      <td>0.8663</td>\n",
              "      <td>0.6869</td>\n",
              "      <td>0.2575</td>\n",
              "      <td>0.6638</td>\n",
              "      <td>0.17300</td>\n",
              "    </tr>\n",
              "    <tr>\n",
              "      <th>4</th>\n",
              "      <td>84358402</td>\n",
              "      <td>M</td>\n",
              "      <td>20.29</td>\n",
              "      <td>14.34</td>\n",
              "      <td>135.10</td>\n",
              "      <td>1297.0</td>\n",
              "      <td>0.10030</td>\n",
              "      <td>0.13280</td>\n",
              "      <td>0.198</td>\n",
              "      <td>0.1043</td>\n",
              "      <td>...</td>\n",
              "      <td>22.54</td>\n",
              "      <td>16.67</td>\n",
              "      <td>152.20</td>\n",
              "      <td>1575.0</td>\n",
              "      <td>0.1374</td>\n",
              "      <td>0.2050</td>\n",
              "      <td>0.4</td>\n",
              "      <td>0.1625</td>\n",
              "      <td>0.2364</td>\n",
              "      <td>0.07678</td>\n",
              "    </tr>\n",
              "  </tbody>\n",
              "</table>\n",
              "<p>5 rows × 32 columns</p>\n",
              "</div>\n",
              "      <button class=\"colab-df-convert\" onclick=\"convertToInteractive('df-5b09a3fb-939a-465a-9e19-242261581250')\"\n",
              "              title=\"Convert this dataframe to an interactive table.\"\n",
              "              style=\"display:none;\">\n",
              "        \n",
              "  <svg xmlns=\"http://www.w3.org/2000/svg\" height=\"24px\"viewBox=\"0 0 24 24\"\n",
              "       width=\"24px\">\n",
              "    <path d=\"M0 0h24v24H0V0z\" fill=\"none\"/>\n",
              "    <path d=\"M18.56 5.44l.94 2.06.94-2.06 2.06-.94-2.06-.94-.94-2.06-.94 2.06-2.06.94zm-11 1L8.5 8.5l.94-2.06 2.06-.94-2.06-.94L8.5 2.5l-.94 2.06-2.06.94zm10 10l.94 2.06.94-2.06 2.06-.94-2.06-.94-.94-2.06-.94 2.06-2.06.94z\"/><path d=\"M17.41 7.96l-1.37-1.37c-.4-.4-.92-.59-1.43-.59-.52 0-1.04.2-1.43.59L10.3 9.45l-7.72 7.72c-.78.78-.78 2.05 0 2.83L4 21.41c.39.39.9.59 1.41.59.51 0 1.02-.2 1.41-.59l7.78-7.78 2.81-2.81c.8-.78.8-2.07 0-2.86zM5.41 20L4 18.59l7.72-7.72 1.47 1.35L5.41 20z\"/>\n",
              "  </svg>\n",
              "      </button>\n",
              "      \n",
              "  <style>\n",
              "    .colab-df-container {\n",
              "      display:flex;\n",
              "      flex-wrap:wrap;\n",
              "      gap: 12px;\n",
              "    }\n",
              "\n",
              "    .colab-df-convert {\n",
              "      background-color: #E8F0FE;\n",
              "      border: none;\n",
              "      border-radius: 50%;\n",
              "      cursor: pointer;\n",
              "      display: none;\n",
              "      fill: #1967D2;\n",
              "      height: 32px;\n",
              "      padding: 0 0 0 0;\n",
              "      width: 32px;\n",
              "    }\n",
              "\n",
              "    .colab-df-convert:hover {\n",
              "      background-color: #E2EBFA;\n",
              "      box-shadow: 0px 1px 2px rgba(60, 64, 67, 0.3), 0px 1px 3px 1px rgba(60, 64, 67, 0.15);\n",
              "      fill: #174EA6;\n",
              "    }\n",
              "\n",
              "    [theme=dark] .colab-df-convert {\n",
              "      background-color: #3B4455;\n",
              "      fill: #D2E3FC;\n",
              "    }\n",
              "\n",
              "    [theme=dark] .colab-df-convert:hover {\n",
              "      background-color: #434B5C;\n",
              "      box-shadow: 0px 1px 3px 1px rgba(0, 0, 0, 0.15);\n",
              "      filter: drop-shadow(0px 1px 2px rgba(0, 0, 0, 0.3));\n",
              "      fill: #FFFFFF;\n",
              "    }\n",
              "  </style>\n",
              "\n",
              "      <script>\n",
              "        const buttonEl =\n",
              "          document.querySelector('#df-5b09a3fb-939a-465a-9e19-242261581250 button.colab-df-convert');\n",
              "        buttonEl.style.display =\n",
              "          google.colab.kernel.accessAllowed ? 'block' : 'none';\n",
              "\n",
              "        async function convertToInteractive(key) {\n",
              "          const element = document.querySelector('#df-5b09a3fb-939a-465a-9e19-242261581250');\n",
              "          const dataTable =\n",
              "            await google.colab.kernel.invokeFunction('convertToInteractive',\n",
              "                                                     [key], {});\n",
              "          if (!dataTable) return;\n",
              "\n",
              "          const docLinkHtml = 'Like what you see? Visit the ' +\n",
              "            '<a target=\"_blank\" href=https://colab.research.google.com/notebooks/data_table.ipynb>data table notebook</a>'\n",
              "            + ' to learn more about interactive tables.';\n",
              "          element.innerHTML = '';\n",
              "          dataTable['output_type'] = 'display_data';\n",
              "          await google.colab.output.renderOutput(dataTable, element);\n",
              "          const docLink = document.createElement('div');\n",
              "          docLink.innerHTML = docLinkHtml;\n",
              "          element.appendChild(docLink);\n",
              "        }\n",
              "      </script>\n",
              "    </div>\n",
              "  </div>\n",
              "  "
            ]
          },
          "metadata": {},
          "execution_count": 3
        }
      ]
    },
    {
      "cell_type": "code",
      "source": [
        "df_train.info()"
      ],
      "metadata": {
        "id": "1OU5zBGx2HGM",
        "colab": {
          "base_uri": "https://localhost:8080/"
        },
        "outputId": "48a6a2dc-bd5d-421c-e746-4762027cc86a"
      },
      "execution_count": null,
      "outputs": [
        {
          "output_type": "stream",
          "name": "stdout",
          "text": [
            "<class 'pandas.core.frame.DataFrame'>\n",
            "RangeIndex: 463 entries, 0 to 462\n",
            "Data columns (total 32 columns):\n",
            " #   Column                   Non-Null Count  Dtype  \n",
            "---  ------                   --------------  -----  \n",
            " 0   id                       463 non-null    int64  \n",
            " 1   diagnosis                463 non-null    object \n",
            " 2   radius_mean              463 non-null    float64\n",
            " 3   texture_mean             463 non-null    float64\n",
            " 4   perimeter_mean           463 non-null    float64\n",
            " 5   area_mean                463 non-null    float64\n",
            " 6   smoothness_mean          463 non-null    float64\n",
            " 7   compactness_mean         463 non-null    float64\n",
            " 8   concavity_mean           463 non-null    object \n",
            " 9   concave points_mean      463 non-null    object \n",
            " 10  symmetry_mean            463 non-null    float64\n",
            " 11  fractal_dimension_mean   463 non-null    float64\n",
            " 12  radius_se                463 non-null    float64\n",
            " 13  texture_se               463 non-null    float64\n",
            " 14  perimeter_se             463 non-null    float64\n",
            " 15  area_se                  463 non-null    float64\n",
            " 16  smoothness_se            463 non-null    float64\n",
            " 17  compactness_se           463 non-null    float64\n",
            " 18  concavity_se             463 non-null    object \n",
            " 19  concave points_se        463 non-null    object \n",
            " 20  symmetry_se              463 non-null    float64\n",
            " 21  fractal_dimension_se     463 non-null    float64\n",
            " 22  radius_worst             463 non-null    float64\n",
            " 23  texture_worst            463 non-null    float64\n",
            " 24  perimeter_worst          463 non-null    float64\n",
            " 25  area_worst               463 non-null    float64\n",
            " 26  smoothness_worst         463 non-null    float64\n",
            " 27  compactness_worst        463 non-null    float64\n",
            " 28  concavity_worst          463 non-null    object \n",
            " 29  concave points_worst     463 non-null    object \n",
            " 30  symmetry_worst           463 non-null    float64\n",
            " 31  fractal_dimension_worst  463 non-null    float64\n",
            "dtypes: float64(24), int64(1), object(7)\n",
            "memory usage: 115.9+ KB\n"
          ]
        }
      ]
    },
    {
      "cell_type": "code",
      "source": [
        "df_test.info()"
      ],
      "metadata": {
        "id": "-GWfRSKlmwgH",
        "colab": {
          "base_uri": "https://localhost:8080/"
        },
        "outputId": "e573c430-8a13-476e-f787-df736e0ec0ca"
      },
      "execution_count": null,
      "outputs": [
        {
          "output_type": "stream",
          "name": "stdout",
          "text": [
            "<class 'pandas.core.frame.DataFrame'>\n",
            "RangeIndex: 106 entries, 0 to 105\n",
            "Data columns (total 31 columns):\n",
            " #   Column                   Non-Null Count  Dtype  \n",
            "---  ------                   --------------  -----  \n",
            " 0   id                       106 non-null    int64  \n",
            " 1   radius_mean              106 non-null    float64\n",
            " 2   texture_mean             106 non-null    float64\n",
            " 3   perimeter_mean           106 non-null    float64\n",
            " 4   area_mean                106 non-null    float64\n",
            " 5   smoothness_mean          106 non-null    float64\n",
            " 6   compactness_mean         106 non-null    float64\n",
            " 7   concavity_mean           106 non-null    float64\n",
            " 8   concave points_mean      106 non-null    float64\n",
            " 9   symmetry_mean            106 non-null    float64\n",
            " 10  fractal_dimension_mean   106 non-null    float64\n",
            " 11  radius_se                106 non-null    float64\n",
            " 12  texture_se               106 non-null    float64\n",
            " 13  perimeter_se             106 non-null    float64\n",
            " 14  area_se                  106 non-null    float64\n",
            " 15  smoothness_se            106 non-null    float64\n",
            " 16  compactness_se           106 non-null    float64\n",
            " 17  concavity_se             106 non-null    float64\n",
            " 18  concave points_se        106 non-null    float64\n",
            " 19  symmetry_se              106 non-null    float64\n",
            " 20  fractal_dimension_se     106 non-null    float64\n",
            " 21  radius_worst             106 non-null    float64\n",
            " 22  texture_worst            106 non-null    float64\n",
            " 23  perimeter_worst          106 non-null    float64\n",
            " 24  area_worst               106 non-null    float64\n",
            " 25  smoothness_worst         106 non-null    float64\n",
            " 26  compactness_worst        106 non-null    float64\n",
            " 27  concavity_worst          106 non-null    float64\n",
            " 28  concave points_worst     106 non-null    float64\n",
            " 29  symmetry_worst           106 non-null    float64\n",
            " 30  fractal_dimension_worst  106 non-null    float64\n",
            "dtypes: float64(30), int64(1)\n",
            "memory usage: 25.8 KB\n"
          ]
        }
      ]
    },
    {
      "cell_type": "code",
      "source": [
        "# CHECK MISSING VALUE\n",
        "print(df_test.isnull().sum())"
      ],
      "metadata": {
        "id": "beTPleXVm1h1",
        "colab": {
          "base_uri": "https://localhost:8080/"
        },
        "outputId": "b0e117f5-1b39-48a7-cb62-5fe43b35afa9"
      },
      "execution_count": null,
      "outputs": [
        {
          "output_type": "stream",
          "name": "stdout",
          "text": [
            "id                         0\n",
            "radius_mean                0\n",
            "texture_mean               0\n",
            "perimeter_mean             0\n",
            "area_mean                  0\n",
            "smoothness_mean            0\n",
            "compactness_mean           0\n",
            "concavity_mean             0\n",
            "concave points_mean        0\n",
            "symmetry_mean              0\n",
            "fractal_dimension_mean     0\n",
            "radius_se                  0\n",
            "texture_se                 0\n",
            "perimeter_se               0\n",
            "area_se                    0\n",
            "smoothness_se              0\n",
            "compactness_se             0\n",
            "concavity_se               0\n",
            "concave points_se          0\n",
            "symmetry_se                0\n",
            "fractal_dimension_se       0\n",
            "radius_worst               0\n",
            "texture_worst              0\n",
            "perimeter_worst            0\n",
            "area_worst                 0\n",
            "smoothness_worst           0\n",
            "compactness_worst          0\n",
            "concavity_worst            0\n",
            "concave points_worst       0\n",
            "symmetry_worst             0\n",
            "fractal_dimension_worst    0\n",
            "dtype: int64\n"
          ]
        }
      ]
    },
    {
      "cell_type": "code",
      "source": [
        "# CONVERT DTYPE OBJECT TO FLOAT\n",
        "df_train.concavity_se = pd.to_numeric(df_train.concavity_se, errors = 'coerce')\n",
        "df_train.concavity_mean = pd.to_numeric(df_train.concavity_mean, errors = 'coerce')\n",
        "df_train.concavity_worst = pd.to_numeric(df_train.concavity_worst, errors = 'coerce')\n",
        "df_train[\"concave points_mean\"] = pd.to_numeric(df_train[\"concave points_mean\"], errors = 'coerce')\n",
        "df_train[\"concave points_se\"] = pd.to_numeric(df_train[\"concave points_se\"], errors = 'coerce')\n",
        "df_train[\"concave points_worst\"] = pd.to_numeric(df_train[\"concave points_worst\"], errors = 'coerce')\n"
      ],
      "metadata": {
        "id": "VfBYUG9z8ct4"
      },
      "execution_count": null,
      "outputs": []
    },
    {
      "cell_type": "code",
      "source": [
        "# CHECK MISSING VALUE\n",
        "print(df_train.isnull().sum())"
      ],
      "metadata": {
        "id": "UBqREcnm_el8",
        "colab": {
          "base_uri": "https://localhost:8080/"
        },
        "outputId": "2d6f0f51-2da3-441d-92db-a986dc7ba0aa"
      },
      "execution_count": null,
      "outputs": [
        {
          "output_type": "stream",
          "name": "stdout",
          "text": [
            "id                         0\n",
            "diagnosis                  0\n",
            "radius_mean                0\n",
            "texture_mean               0\n",
            "perimeter_mean             0\n",
            "area_mean                  0\n",
            "smoothness_mean            0\n",
            "compactness_mean           0\n",
            "concavity_mean             7\n",
            "concave points_mean        7\n",
            "symmetry_mean              0\n",
            "fractal_dimension_mean     0\n",
            "radius_se                  0\n",
            "texture_se                 0\n",
            "perimeter_se               0\n",
            "area_se                    0\n",
            "smoothness_se              0\n",
            "compactness_se             0\n",
            "concavity_se               7\n",
            "concave points_se          7\n",
            "symmetry_se                0\n",
            "fractal_dimension_se       0\n",
            "radius_worst               0\n",
            "texture_worst              0\n",
            "perimeter_worst            0\n",
            "area_worst                 0\n",
            "smoothness_worst           0\n",
            "compactness_worst          0\n",
            "concavity_worst            7\n",
            "concave points_worst       7\n",
            "symmetry_worst             0\n",
            "fractal_dimension_worst    0\n",
            "dtype: int64\n"
          ]
        }
      ]
    },
    {
      "cell_type": "code",
      "source": [
        "# HANDLING MISSING VALUE \n",
        "df_train[\"concavity_mean\"].fillna(df_train[\"concavity_mean\"].median(), inplace = True)\n",
        "df_train[\"concave points_mean\"].fillna(df_train[\"concave points_mean\"].median(), inplace = True)\n",
        "df_train[\"concavity_se\"].fillna(df_train[\"concavity_se\"].median(), inplace = True)\n",
        "df_train[\"concave points_se\"].fillna(df_train[\"concave points_se\"].median(), inplace = True)\n",
        "df_train[\"concavity_worst\"].fillna(df_train[\"concavity_worst\"].median(), inplace = True)\n",
        "df_train[\"concave points_worst\"].fillna(df_train[\"concave points_worst\"].median(), inplace = True)\n"
      ],
      "metadata": {
        "id": "MWCR0ojNAXbq"
      },
      "execution_count": null,
      "outputs": []
    },
    {
      "cell_type": "code",
      "source": [
        "# CROSSCHECK MISSING VALUE\n",
        "df_train.isnull().values.any()"
      ],
      "metadata": {
        "id": "ZLSja_m4DEzo",
        "colab": {
          "base_uri": "https://localhost:8080/"
        },
        "outputId": "221b94b9-36ed-4940-cdd7-4e9c0bc8ff2c"
      },
      "execution_count": null,
      "outputs": [
        {
          "output_type": "execute_result",
          "data": {
            "text/plain": [
              "False"
            ]
          },
          "metadata": {},
          "execution_count": 11
        }
      ]
    },
    {
      "cell_type": "code",
      "source": [
        "df_train.shape"
      ],
      "metadata": {
        "id": "92J9j8GOwPiX",
        "colab": {
          "base_uri": "https://localhost:8080/"
        },
        "outputId": "4be9a599-f880-4f02-ac55-8afa7dfe1884"
      },
      "execution_count": null,
      "outputs": [
        {
          "output_type": "execute_result",
          "data": {
            "text/plain": [
              "(463, 32)"
            ]
          },
          "metadata": {},
          "execution_count": 12
        }
      ]
    },
    {
      "cell_type": "code",
      "source": [
        "df_train.columns"
      ],
      "metadata": {
        "id": "GjYa2eFGwcB8",
        "colab": {
          "base_uri": "https://localhost:8080/"
        },
        "outputId": "3466ee48-e7a1-4f82-d5d9-7c458b909755"
      },
      "execution_count": null,
      "outputs": [
        {
          "output_type": "execute_result",
          "data": {
            "text/plain": [
              "Index(['id', 'diagnosis', 'radius_mean', 'texture_mean', 'perimeter_mean',\n",
              "       'area_mean', 'smoothness_mean', 'compactness_mean', 'concavity_mean',\n",
              "       'concave points_mean', 'symmetry_mean', 'fractal_dimension_mean',\n",
              "       'radius_se', 'texture_se', 'perimeter_se', 'area_se', 'smoothness_se',\n",
              "       'compactness_se', 'concavity_se', 'concave points_se', 'symmetry_se',\n",
              "       'fractal_dimension_se', 'radius_worst', 'texture_worst',\n",
              "       'perimeter_worst', 'area_worst', 'smoothness_worst',\n",
              "       'compactness_worst', 'concavity_worst', 'concave points_worst',\n",
              "       'symmetry_worst', 'fractal_dimension_worst'],\n",
              "      dtype='object')"
            ]
          },
          "metadata": {},
          "execution_count": 13
        }
      ]
    },
    {
      "cell_type": "code",
      "source": [
        "# CHEK FOR IMBALANCE DATA\n",
        "df_train.diagnosis.value_counts()"
      ],
      "metadata": {
        "id": "APAMxIcuo6CH",
        "colab": {
          "base_uri": "https://localhost:8080/"
        },
        "outputId": "09b35ac9-7da7-4493-e0f7-8f90776998ae"
      },
      "execution_count": null,
      "outputs": [
        {
          "output_type": "execute_result",
          "data": {
            "text/plain": [
              "B    275\n",
              "M    188\n",
              "Name: diagnosis, dtype: int64"
            ]
          },
          "metadata": {},
          "execution_count": 14
        }
      ]
    },
    {
      "cell_type": "code",
      "source": [
        "# DROP ID\n",
        "df_train = df_train.drop(['id'], axis=1)\n",
        "df_train.head()"
      ],
      "metadata": {
        "id": "CyUq1UHTraEK",
        "colab": {
          "base_uri": "https://localhost:8080/",
          "height": 317
        },
        "outputId": "9c02f18c-8784-4416-b084-aedac6831875"
      },
      "execution_count": null,
      "outputs": [
        {
          "output_type": "execute_result",
          "data": {
            "text/plain": [
              "  diagnosis  radius_mean  texture_mean  perimeter_mean  area_mean  \\\n",
              "0         M        17.99         10.38          122.80     1001.0   \n",
              "1         M        20.57         17.77          132.90     1326.0   \n",
              "2         M        19.69         21.25          130.00     1203.0   \n",
              "3         M        11.42         20.38           77.58      386.1   \n",
              "4         M        20.29         14.34          135.10     1297.0   \n",
              "\n",
              "   smoothness_mean  compactness_mean  concavity_mean  concave points_mean  \\\n",
              "0          0.11840           0.27760          0.3001              0.14710   \n",
              "1          0.08474           0.07864          0.0869              0.07017   \n",
              "2          0.10960           0.15990          0.1974              0.12790   \n",
              "3          0.14250           0.28390          0.2414              0.10520   \n",
              "4          0.10030           0.13280          0.1980              0.10430   \n",
              "\n",
              "   symmetry_mean  ...  radius_worst  texture_worst  perimeter_worst  \\\n",
              "0         0.2419  ...         25.38          17.33           184.60   \n",
              "1         0.1812  ...         24.99          23.41           158.80   \n",
              "2         0.2069  ...         23.57          25.53           152.50   \n",
              "3         0.2597  ...         14.91          26.50            98.87   \n",
              "4         0.1809  ...         22.54          16.67           152.20   \n",
              "\n",
              "   area_worst  smoothness_worst  compactness_worst  concavity_worst  \\\n",
              "0      2019.0            0.1622             0.6656           0.7119   \n",
              "1      1956.0            0.1238             0.1866           0.2416   \n",
              "2      1709.0            0.1444             0.4245           0.4504   \n",
              "3       567.7            0.2098             0.8663           0.6869   \n",
              "4      1575.0            0.1374             0.2050           0.4000   \n",
              "\n",
              "   concave points_worst  symmetry_worst  fractal_dimension_worst  \n",
              "0                0.2654          0.4601                  0.11890  \n",
              "1                0.1860          0.2750                  0.08902  \n",
              "2                0.2430          0.3613                  0.08758  \n",
              "3                0.2575          0.6638                  0.17300  \n",
              "4                0.1625          0.2364                  0.07678  \n",
              "\n",
              "[5 rows x 31 columns]"
            ],
            "text/html": [
              "\n",
              "  <div id=\"df-6c641c0c-a1b6-4727-8bd4-924df0152dfb\">\n",
              "    <div class=\"colab-df-container\">\n",
              "      <div>\n",
              "<style scoped>\n",
              "    .dataframe tbody tr th:only-of-type {\n",
              "        vertical-align: middle;\n",
              "    }\n",
              "\n",
              "    .dataframe tbody tr th {\n",
              "        vertical-align: top;\n",
              "    }\n",
              "\n",
              "    .dataframe thead th {\n",
              "        text-align: right;\n",
              "    }\n",
              "</style>\n",
              "<table border=\"1\" class=\"dataframe\">\n",
              "  <thead>\n",
              "    <tr style=\"text-align: right;\">\n",
              "      <th></th>\n",
              "      <th>diagnosis</th>\n",
              "      <th>radius_mean</th>\n",
              "      <th>texture_mean</th>\n",
              "      <th>perimeter_mean</th>\n",
              "      <th>area_mean</th>\n",
              "      <th>smoothness_mean</th>\n",
              "      <th>compactness_mean</th>\n",
              "      <th>concavity_mean</th>\n",
              "      <th>concave points_mean</th>\n",
              "      <th>symmetry_mean</th>\n",
              "      <th>...</th>\n",
              "      <th>radius_worst</th>\n",
              "      <th>texture_worst</th>\n",
              "      <th>perimeter_worst</th>\n",
              "      <th>area_worst</th>\n",
              "      <th>smoothness_worst</th>\n",
              "      <th>compactness_worst</th>\n",
              "      <th>concavity_worst</th>\n",
              "      <th>concave points_worst</th>\n",
              "      <th>symmetry_worst</th>\n",
              "      <th>fractal_dimension_worst</th>\n",
              "    </tr>\n",
              "  </thead>\n",
              "  <tbody>\n",
              "    <tr>\n",
              "      <th>0</th>\n",
              "      <td>M</td>\n",
              "      <td>17.99</td>\n",
              "      <td>10.38</td>\n",
              "      <td>122.80</td>\n",
              "      <td>1001.0</td>\n",
              "      <td>0.11840</td>\n",
              "      <td>0.27760</td>\n",
              "      <td>0.3001</td>\n",
              "      <td>0.14710</td>\n",
              "      <td>0.2419</td>\n",
              "      <td>...</td>\n",
              "      <td>25.38</td>\n",
              "      <td>17.33</td>\n",
              "      <td>184.60</td>\n",
              "      <td>2019.0</td>\n",
              "      <td>0.1622</td>\n",
              "      <td>0.6656</td>\n",
              "      <td>0.7119</td>\n",
              "      <td>0.2654</td>\n",
              "      <td>0.4601</td>\n",
              "      <td>0.11890</td>\n",
              "    </tr>\n",
              "    <tr>\n",
              "      <th>1</th>\n",
              "      <td>M</td>\n",
              "      <td>20.57</td>\n",
              "      <td>17.77</td>\n",
              "      <td>132.90</td>\n",
              "      <td>1326.0</td>\n",
              "      <td>0.08474</td>\n",
              "      <td>0.07864</td>\n",
              "      <td>0.0869</td>\n",
              "      <td>0.07017</td>\n",
              "      <td>0.1812</td>\n",
              "      <td>...</td>\n",
              "      <td>24.99</td>\n",
              "      <td>23.41</td>\n",
              "      <td>158.80</td>\n",
              "      <td>1956.0</td>\n",
              "      <td>0.1238</td>\n",
              "      <td>0.1866</td>\n",
              "      <td>0.2416</td>\n",
              "      <td>0.1860</td>\n",
              "      <td>0.2750</td>\n",
              "      <td>0.08902</td>\n",
              "    </tr>\n",
              "    <tr>\n",
              "      <th>2</th>\n",
              "      <td>M</td>\n",
              "      <td>19.69</td>\n",
              "      <td>21.25</td>\n",
              "      <td>130.00</td>\n",
              "      <td>1203.0</td>\n",
              "      <td>0.10960</td>\n",
              "      <td>0.15990</td>\n",
              "      <td>0.1974</td>\n",
              "      <td>0.12790</td>\n",
              "      <td>0.2069</td>\n",
              "      <td>...</td>\n",
              "      <td>23.57</td>\n",
              "      <td>25.53</td>\n",
              "      <td>152.50</td>\n",
              "      <td>1709.0</td>\n",
              "      <td>0.1444</td>\n",
              "      <td>0.4245</td>\n",
              "      <td>0.4504</td>\n",
              "      <td>0.2430</td>\n",
              "      <td>0.3613</td>\n",
              "      <td>0.08758</td>\n",
              "    </tr>\n",
              "    <tr>\n",
              "      <th>3</th>\n",
              "      <td>M</td>\n",
              "      <td>11.42</td>\n",
              "      <td>20.38</td>\n",
              "      <td>77.58</td>\n",
              "      <td>386.1</td>\n",
              "      <td>0.14250</td>\n",
              "      <td>0.28390</td>\n",
              "      <td>0.2414</td>\n",
              "      <td>0.10520</td>\n",
              "      <td>0.2597</td>\n",
              "      <td>...</td>\n",
              "      <td>14.91</td>\n",
              "      <td>26.50</td>\n",
              "      <td>98.87</td>\n",
              "      <td>567.7</td>\n",
              "      <td>0.2098</td>\n",
              "      <td>0.8663</td>\n",
              "      <td>0.6869</td>\n",
              "      <td>0.2575</td>\n",
              "      <td>0.6638</td>\n",
              "      <td>0.17300</td>\n",
              "    </tr>\n",
              "    <tr>\n",
              "      <th>4</th>\n",
              "      <td>M</td>\n",
              "      <td>20.29</td>\n",
              "      <td>14.34</td>\n",
              "      <td>135.10</td>\n",
              "      <td>1297.0</td>\n",
              "      <td>0.10030</td>\n",
              "      <td>0.13280</td>\n",
              "      <td>0.1980</td>\n",
              "      <td>0.10430</td>\n",
              "      <td>0.1809</td>\n",
              "      <td>...</td>\n",
              "      <td>22.54</td>\n",
              "      <td>16.67</td>\n",
              "      <td>152.20</td>\n",
              "      <td>1575.0</td>\n",
              "      <td>0.1374</td>\n",
              "      <td>0.2050</td>\n",
              "      <td>0.4000</td>\n",
              "      <td>0.1625</td>\n",
              "      <td>0.2364</td>\n",
              "      <td>0.07678</td>\n",
              "    </tr>\n",
              "  </tbody>\n",
              "</table>\n",
              "<p>5 rows × 31 columns</p>\n",
              "</div>\n",
              "      <button class=\"colab-df-convert\" onclick=\"convertToInteractive('df-6c641c0c-a1b6-4727-8bd4-924df0152dfb')\"\n",
              "              title=\"Convert this dataframe to an interactive table.\"\n",
              "              style=\"display:none;\">\n",
              "        \n",
              "  <svg xmlns=\"http://www.w3.org/2000/svg\" height=\"24px\"viewBox=\"0 0 24 24\"\n",
              "       width=\"24px\">\n",
              "    <path d=\"M0 0h24v24H0V0z\" fill=\"none\"/>\n",
              "    <path d=\"M18.56 5.44l.94 2.06.94-2.06 2.06-.94-2.06-.94-.94-2.06-.94 2.06-2.06.94zm-11 1L8.5 8.5l.94-2.06 2.06-.94-2.06-.94L8.5 2.5l-.94 2.06-2.06.94zm10 10l.94 2.06.94-2.06 2.06-.94-2.06-.94-.94-2.06-.94 2.06-2.06.94z\"/><path d=\"M17.41 7.96l-1.37-1.37c-.4-.4-.92-.59-1.43-.59-.52 0-1.04.2-1.43.59L10.3 9.45l-7.72 7.72c-.78.78-.78 2.05 0 2.83L4 21.41c.39.39.9.59 1.41.59.51 0 1.02-.2 1.41-.59l7.78-7.78 2.81-2.81c.8-.78.8-2.07 0-2.86zM5.41 20L4 18.59l7.72-7.72 1.47 1.35L5.41 20z\"/>\n",
              "  </svg>\n",
              "      </button>\n",
              "      \n",
              "  <style>\n",
              "    .colab-df-container {\n",
              "      display:flex;\n",
              "      flex-wrap:wrap;\n",
              "      gap: 12px;\n",
              "    }\n",
              "\n",
              "    .colab-df-convert {\n",
              "      background-color: #E8F0FE;\n",
              "      border: none;\n",
              "      border-radius: 50%;\n",
              "      cursor: pointer;\n",
              "      display: none;\n",
              "      fill: #1967D2;\n",
              "      height: 32px;\n",
              "      padding: 0 0 0 0;\n",
              "      width: 32px;\n",
              "    }\n",
              "\n",
              "    .colab-df-convert:hover {\n",
              "      background-color: #E2EBFA;\n",
              "      box-shadow: 0px 1px 2px rgba(60, 64, 67, 0.3), 0px 1px 3px 1px rgba(60, 64, 67, 0.15);\n",
              "      fill: #174EA6;\n",
              "    }\n",
              "\n",
              "    [theme=dark] .colab-df-convert {\n",
              "      background-color: #3B4455;\n",
              "      fill: #D2E3FC;\n",
              "    }\n",
              "\n",
              "    [theme=dark] .colab-df-convert:hover {\n",
              "      background-color: #434B5C;\n",
              "      box-shadow: 0px 1px 3px 1px rgba(0, 0, 0, 0.15);\n",
              "      filter: drop-shadow(0px 1px 2px rgba(0, 0, 0, 0.3));\n",
              "      fill: #FFFFFF;\n",
              "    }\n",
              "  </style>\n",
              "\n",
              "      <script>\n",
              "        const buttonEl =\n",
              "          document.querySelector('#df-6c641c0c-a1b6-4727-8bd4-924df0152dfb button.colab-df-convert');\n",
              "        buttonEl.style.display =\n",
              "          google.colab.kernel.accessAllowed ? 'block' : 'none';\n",
              "\n",
              "        async function convertToInteractive(key) {\n",
              "          const element = document.querySelector('#df-6c641c0c-a1b6-4727-8bd4-924df0152dfb');\n",
              "          const dataTable =\n",
              "            await google.colab.kernel.invokeFunction('convertToInteractive',\n",
              "                                                     [key], {});\n",
              "          if (!dataTable) return;\n",
              "\n",
              "          const docLinkHtml = 'Like what you see? Visit the ' +\n",
              "            '<a target=\"_blank\" href=https://colab.research.google.com/notebooks/data_table.ipynb>data table notebook</a>'\n",
              "            + ' to learn more about interactive tables.';\n",
              "          element.innerHTML = '';\n",
              "          dataTable['output_type'] = 'display_data';\n",
              "          await google.colab.output.renderOutput(dataTable, element);\n",
              "          const docLink = document.createElement('div');\n",
              "          docLink.innerHTML = docLinkHtml;\n",
              "          element.appendChild(docLink);\n",
              "        }\n",
              "      </script>\n",
              "    </div>\n",
              "  </div>\n",
              "  "
            ]
          },
          "metadata": {},
          "execution_count": 15
        }
      ]
    },
    {
      "cell_type": "code",
      "source": [
        "# CONVERT LABEL TERGET\n",
        "diagnosis = {'M': 1, 'B': 0}\n",
        "df_train.diagnosis = [diagnosis[item] for item in df_train.diagnosis]\n",
        "df_train.head()\n",
        "df_exp = df_train"
      ],
      "metadata": {
        "id": "xDrdWtie0CSb"
      },
      "execution_count": null,
      "outputs": []
    },
    {
      "cell_type": "code",
      "source": [
        "df_train.rename(columns={'diagnosis': 'class'}, inplace=True)"
      ],
      "metadata": {
        "id": "vb87JcKKY6WU"
      },
      "execution_count": null,
      "outputs": []
    },
    {
      "cell_type": "code",
      "source": [
        "# SPLITTING DATA\n",
        "\n",
        "X = df_train.drop('class', axis=1)\n",
        "y = df_train['class']\n",
        "X_train, X_test, y_train, y_test = train_test_split(X,y,test_size=0.3,random_state=0)"
      ],
      "metadata": {
        "id": "PUMJ2Y-IbzpC"
      },
      "execution_count": null,
      "outputs": []
    },
    {
      "cell_type": "code",
      "source": [
        "# SCALLING DATA\n",
        "scaler = StandardScaler()\n",
        "scaler.fit(X_train)\n",
        "scaler.transform(X_train)\n",
        "scaler.transform(X_test)"
      ],
      "metadata": {
        "id": "MheCa2a01j9B",
        "colab": {
          "base_uri": "https://localhost:8080/"
        },
        "outputId": "61feca20-b3ef-4ba5-a861-c814f07561b8"
      },
      "execution_count": null,
      "outputs": [
        {
          "output_type": "execute_result",
          "data": {
            "text/plain": [
              "array([[-0.05640078,  0.03947048, -0.9997156 , ..., -0.88660477,\n",
              "        -0.82170966,  0.32068663],\n",
              "       [-0.05660232, -0.71182095, -1.3407452 , ..., -0.87273742,\n",
              "        -0.721201  , -0.33748245],\n",
              "       [-0.05446348,  0.40590681,  2.0843424 , ...,  2.00024287,\n",
              "         3.7641853 ,  0.81339421],\n",
              "       ...,\n",
              "       [-0.05577171, -0.64202356, -0.20918435, ..., -0.59401886,\n",
              "        -0.82621005,  0.15890205],\n",
              "       [-0.05570559, -0.0157858 , -0.07605954, ...,  0.96247722,\n",
              "         0.37239318,  1.12120513],\n",
              "       [-0.05574566, -0.38706917, -0.18905128, ..., -1.31694988,\n",
              "        -1.60777736, -0.84332189]])"
            ]
          },
          "metadata": {},
          "execution_count": 19
        }
      ]
    },
    {
      "cell_type": "markdown",
      "source": [
        "## TPOT"
      ],
      "metadata": {
        "id": "7sHd18vrplLY"
      }
    },
    {
      "cell_type": "code",
      "source": [
        "# !pip install tpot\n",
        "# from tpot import TPOTClassifier"
      ],
      "metadata": {
        "id": "d-1w-8_7poID"
      },
      "execution_count": null,
      "outputs": []
    },
    {
      "cell_type": "code",
      "source": [
        "# tpot = TPOTClassifier(verbosity=2, population_size=40, n_jobs=-1, generations=5)\n",
        "# tpot.fit(X_train, y_train)"
      ],
      "metadata": {
        "id": "bwsnzGK1vj4-"
      },
      "execution_count": null,
      "outputs": []
    },
    {
      "cell_type": "code",
      "source": [
        "# tpot.export('tpot_pipeline.py')"
      ],
      "metadata": {
        "id": "XCW-3iCLe4nh"
      },
      "execution_count": null,
      "outputs": []
    },
    {
      "cell_type": "code",
      "source": [
        "# predictions = tpot.predict(X_test)"
      ],
      "metadata": {
        "id": "tt_E9OfMl8Ie"
      },
      "execution_count": null,
      "outputs": []
    },
    {
      "cell_type": "code",
      "source": [
        "# print(\"Confusion Matrix:\")\n",
        "# print(confusion_matrix(y_test, predictions))"
      ],
      "metadata": {
        "id": "7Pr5AaAZoLu5"
      },
      "execution_count": null,
      "outputs": []
    },
    {
      "cell_type": "code",
      "source": [
        "# print(\"Classification Report\")\n",
        "# print(classification_report(y_test, predictions))"
      ],
      "metadata": {
        "id": "t0W9sFLgoa9s"
      },
      "execution_count": null,
      "outputs": []
    },
    {
      "cell_type": "markdown",
      "source": [
        "## Load Pipeline\n"
      ],
      "metadata": {
        "id": "OyNzbg6Pw9wE"
      }
    },
    {
      "cell_type": "code",
      "source": [
        "# Hasil pipeline yang sudah dibentuk oleh TPOT\n",
        "\n",
        "from sklearn.ensemble import GradientBoostingClassifier\n",
        "from sklearn.model_selection import train_test_split\n",
        "\n",
        "# NOTE: Make sure that the outcome column is labeled 'target' in the data file\n",
        "tpot_data = df_train\n",
        "features = tpot_data.drop('class', axis=1)\n",
        "training_features, testing_features, training_target, testing_target = \\\n",
        "            train_test_split(features, tpot_data['class'], random_state=None)\n",
        "\n",
        "# Average CV score on the training set was: 0.9846153846153847\n",
        "exported_pipeline = GradientBoostingClassifier(learning_rate=0.5, max_depth=6, \n",
        "                                               max_features=0.4, min_samples_leaf=5, \n",
        "                                               min_samples_split=15, n_estimators=100, \n",
        "                                               subsample=0.7000000000000001)\n",
        "\n",
        "exported_pipeline.fit(training_features, training_target)\n",
        "results = exported_pipeline.predict(testing_features)\n"
      ],
      "metadata": {
        "id": "1lXpO02Bok8y"
      },
      "execution_count": null,
      "outputs": []
    },
    {
      "cell_type": "code",
      "source": [
        "print(\"Confusion Matrix:\")\n",
        "print(confusion_matrix(testing_target, results))"
      ],
      "metadata": {
        "id": "JLEuQQslyCnK",
        "colab": {
          "base_uri": "https://localhost:8080/"
        },
        "outputId": "76472934-97fe-4990-ac54-79fe420f98e7"
      },
      "execution_count": null,
      "outputs": [
        {
          "output_type": "stream",
          "name": "stdout",
          "text": [
            "Confusion Matrix:\n",
            "[[76  1]\n",
            " [ 3 36]]\n"
          ]
        }
      ]
    },
    {
      "cell_type": "code",
      "source": [
        "print(\"Classification Report\")\n",
        "print(classification_report(testing_target, results))"
      ],
      "metadata": {
        "id": "75OYx49dyDNu",
        "colab": {
          "base_uri": "https://localhost:8080/"
        },
        "outputId": "95bdbd99-440a-4dbd-abb4-cac9271c36a9"
      },
      "execution_count": null,
      "outputs": [
        {
          "output_type": "stream",
          "name": "stdout",
          "text": [
            "Classification Report\n",
            "              precision    recall  f1-score   support\n",
            "\n",
            "           0       0.96      0.99      0.97        77\n",
            "           1       0.97      0.92      0.95        39\n",
            "\n",
            "    accuracy                           0.97       116\n",
            "   macro avg       0.97      0.96      0.96       116\n",
            "weighted avg       0.97      0.97      0.97       116\n",
            "\n"
          ]
        }
      ]
    },
    {
      "cell_type": "code",
      "source": [
        "# Make predictions on the submission data\n",
        "\n",
        "df_test = df_test.drop('id', axis=1)\n",
        "df_test.head()"
      ],
      "metadata": {
        "id": "pd5FXCxFmin_",
        "colab": {
          "base_uri": "https://localhost:8080/",
          "height": 317
        },
        "outputId": "42af870e-bdcc-4590-9139-081d0e550257"
      },
      "execution_count": null,
      "outputs": [
        {
          "output_type": "execute_result",
          "data": {
            "text/plain": [
              "   radius_mean  texture_mean  perimeter_mean  area_mean  smoothness_mean  \\\n",
              "0       11.600         18.36           73.88      412.7          0.08508   \n",
              "1       13.170         18.22           84.28      537.3          0.07466   \n",
              "2       13.240         20.13           86.87      542.9          0.08284   \n",
              "3       13.140         20.74           85.98      536.9          0.08675   \n",
              "4        9.668         18.10           61.06      286.3          0.08311   \n",
              "\n",
              "   compactness_mean  concavity_mean  concave points_mean  symmetry_mean  \\\n",
              "0           0.05855         0.03367             0.017770         0.1516   \n",
              "1           0.05994         0.04859             0.028700         0.1454   \n",
              "2           0.12230         0.10100             0.028330         0.1601   \n",
              "3           0.10890         0.10850             0.035100         0.1562   \n",
              "4           0.05428         0.01479             0.005769         0.1680   \n",
              "\n",
              "   fractal_dimension_mean  ...  radius_worst  texture_worst  perimeter_worst  \\\n",
              "0                 0.05859  ...         12.77          24.02            82.68   \n",
              "1                 0.05549  ...         14.90          23.89            95.10   \n",
              "2                 0.06432  ...         15.44          25.50           115.00   \n",
              "3                 0.06020  ...         14.80          25.46           100.90   \n",
              "4                 0.06412  ...         11.15          24.62            71.11   \n",
              "\n",
              "   area_worst  smoothness_worst  compactness_worst  concavity_worst  \\\n",
              "0       495.1            0.1342             0.1808          0.18600   \n",
              "1       687.6            0.1282             0.1965          0.18760   \n",
              "2       733.5            0.1201             0.5646          0.65560   \n",
              "3       689.1            0.1351             0.3549          0.45040   \n",
              "4       380.2            0.1388             0.1255          0.06409   \n",
              "\n",
              "   concave points_worst  symmetry_worst  fractal_dimension_worst  \n",
              "0               0.08288          0.3210                  0.07863  \n",
              "1               0.10450          0.2235                  0.06925  \n",
              "2               0.13570          0.2845                  0.12490  \n",
              "3               0.11810          0.2563                  0.08174  \n",
              "4               0.02500          0.3057                  0.07875  \n",
              "\n",
              "[5 rows x 30 columns]"
            ],
            "text/html": [
              "\n",
              "  <div id=\"df-b354a729-1c22-4dc5-850c-3c5176695789\">\n",
              "    <div class=\"colab-df-container\">\n",
              "      <div>\n",
              "<style scoped>\n",
              "    .dataframe tbody tr th:only-of-type {\n",
              "        vertical-align: middle;\n",
              "    }\n",
              "\n",
              "    .dataframe tbody tr th {\n",
              "        vertical-align: top;\n",
              "    }\n",
              "\n",
              "    .dataframe thead th {\n",
              "        text-align: right;\n",
              "    }\n",
              "</style>\n",
              "<table border=\"1\" class=\"dataframe\">\n",
              "  <thead>\n",
              "    <tr style=\"text-align: right;\">\n",
              "      <th></th>\n",
              "      <th>radius_mean</th>\n",
              "      <th>texture_mean</th>\n",
              "      <th>perimeter_mean</th>\n",
              "      <th>area_mean</th>\n",
              "      <th>smoothness_mean</th>\n",
              "      <th>compactness_mean</th>\n",
              "      <th>concavity_mean</th>\n",
              "      <th>concave points_mean</th>\n",
              "      <th>symmetry_mean</th>\n",
              "      <th>fractal_dimension_mean</th>\n",
              "      <th>...</th>\n",
              "      <th>radius_worst</th>\n",
              "      <th>texture_worst</th>\n",
              "      <th>perimeter_worst</th>\n",
              "      <th>area_worst</th>\n",
              "      <th>smoothness_worst</th>\n",
              "      <th>compactness_worst</th>\n",
              "      <th>concavity_worst</th>\n",
              "      <th>concave points_worst</th>\n",
              "      <th>symmetry_worst</th>\n",
              "      <th>fractal_dimension_worst</th>\n",
              "    </tr>\n",
              "  </thead>\n",
              "  <tbody>\n",
              "    <tr>\n",
              "      <th>0</th>\n",
              "      <td>11.600</td>\n",
              "      <td>18.36</td>\n",
              "      <td>73.88</td>\n",
              "      <td>412.7</td>\n",
              "      <td>0.08508</td>\n",
              "      <td>0.05855</td>\n",
              "      <td>0.03367</td>\n",
              "      <td>0.017770</td>\n",
              "      <td>0.1516</td>\n",
              "      <td>0.05859</td>\n",
              "      <td>...</td>\n",
              "      <td>12.77</td>\n",
              "      <td>24.02</td>\n",
              "      <td>82.68</td>\n",
              "      <td>495.1</td>\n",
              "      <td>0.1342</td>\n",
              "      <td>0.1808</td>\n",
              "      <td>0.18600</td>\n",
              "      <td>0.08288</td>\n",
              "      <td>0.3210</td>\n",
              "      <td>0.07863</td>\n",
              "    </tr>\n",
              "    <tr>\n",
              "      <th>1</th>\n",
              "      <td>13.170</td>\n",
              "      <td>18.22</td>\n",
              "      <td>84.28</td>\n",
              "      <td>537.3</td>\n",
              "      <td>0.07466</td>\n",
              "      <td>0.05994</td>\n",
              "      <td>0.04859</td>\n",
              "      <td>0.028700</td>\n",
              "      <td>0.1454</td>\n",
              "      <td>0.05549</td>\n",
              "      <td>...</td>\n",
              "      <td>14.90</td>\n",
              "      <td>23.89</td>\n",
              "      <td>95.10</td>\n",
              "      <td>687.6</td>\n",
              "      <td>0.1282</td>\n",
              "      <td>0.1965</td>\n",
              "      <td>0.18760</td>\n",
              "      <td>0.10450</td>\n",
              "      <td>0.2235</td>\n",
              "      <td>0.06925</td>\n",
              "    </tr>\n",
              "    <tr>\n",
              "      <th>2</th>\n",
              "      <td>13.240</td>\n",
              "      <td>20.13</td>\n",
              "      <td>86.87</td>\n",
              "      <td>542.9</td>\n",
              "      <td>0.08284</td>\n",
              "      <td>0.12230</td>\n",
              "      <td>0.10100</td>\n",
              "      <td>0.028330</td>\n",
              "      <td>0.1601</td>\n",
              "      <td>0.06432</td>\n",
              "      <td>...</td>\n",
              "      <td>15.44</td>\n",
              "      <td>25.50</td>\n",
              "      <td>115.00</td>\n",
              "      <td>733.5</td>\n",
              "      <td>0.1201</td>\n",
              "      <td>0.5646</td>\n",
              "      <td>0.65560</td>\n",
              "      <td>0.13570</td>\n",
              "      <td>0.2845</td>\n",
              "      <td>0.12490</td>\n",
              "    </tr>\n",
              "    <tr>\n",
              "      <th>3</th>\n",
              "      <td>13.140</td>\n",
              "      <td>20.74</td>\n",
              "      <td>85.98</td>\n",
              "      <td>536.9</td>\n",
              "      <td>0.08675</td>\n",
              "      <td>0.10890</td>\n",
              "      <td>0.10850</td>\n",
              "      <td>0.035100</td>\n",
              "      <td>0.1562</td>\n",
              "      <td>0.06020</td>\n",
              "      <td>...</td>\n",
              "      <td>14.80</td>\n",
              "      <td>25.46</td>\n",
              "      <td>100.90</td>\n",
              "      <td>689.1</td>\n",
              "      <td>0.1351</td>\n",
              "      <td>0.3549</td>\n",
              "      <td>0.45040</td>\n",
              "      <td>0.11810</td>\n",
              "      <td>0.2563</td>\n",
              "      <td>0.08174</td>\n",
              "    </tr>\n",
              "    <tr>\n",
              "      <th>4</th>\n",
              "      <td>9.668</td>\n",
              "      <td>18.10</td>\n",
              "      <td>61.06</td>\n",
              "      <td>286.3</td>\n",
              "      <td>0.08311</td>\n",
              "      <td>0.05428</td>\n",
              "      <td>0.01479</td>\n",
              "      <td>0.005769</td>\n",
              "      <td>0.1680</td>\n",
              "      <td>0.06412</td>\n",
              "      <td>...</td>\n",
              "      <td>11.15</td>\n",
              "      <td>24.62</td>\n",
              "      <td>71.11</td>\n",
              "      <td>380.2</td>\n",
              "      <td>0.1388</td>\n",
              "      <td>0.1255</td>\n",
              "      <td>0.06409</td>\n",
              "      <td>0.02500</td>\n",
              "      <td>0.3057</td>\n",
              "      <td>0.07875</td>\n",
              "    </tr>\n",
              "  </tbody>\n",
              "</table>\n",
              "<p>5 rows × 30 columns</p>\n",
              "</div>\n",
              "      <button class=\"colab-df-convert\" onclick=\"convertToInteractive('df-b354a729-1c22-4dc5-850c-3c5176695789')\"\n",
              "              title=\"Convert this dataframe to an interactive table.\"\n",
              "              style=\"display:none;\">\n",
              "        \n",
              "  <svg xmlns=\"http://www.w3.org/2000/svg\" height=\"24px\"viewBox=\"0 0 24 24\"\n",
              "       width=\"24px\">\n",
              "    <path d=\"M0 0h24v24H0V0z\" fill=\"none\"/>\n",
              "    <path d=\"M18.56 5.44l.94 2.06.94-2.06 2.06-.94-2.06-.94-.94-2.06-.94 2.06-2.06.94zm-11 1L8.5 8.5l.94-2.06 2.06-.94-2.06-.94L8.5 2.5l-.94 2.06-2.06.94zm10 10l.94 2.06.94-2.06 2.06-.94-2.06-.94-.94-2.06-.94 2.06-2.06.94z\"/><path d=\"M17.41 7.96l-1.37-1.37c-.4-.4-.92-.59-1.43-.59-.52 0-1.04.2-1.43.59L10.3 9.45l-7.72 7.72c-.78.78-.78 2.05 0 2.83L4 21.41c.39.39.9.59 1.41.59.51 0 1.02-.2 1.41-.59l7.78-7.78 2.81-2.81c.8-.78.8-2.07 0-2.86zM5.41 20L4 18.59l7.72-7.72 1.47 1.35L5.41 20z\"/>\n",
              "  </svg>\n",
              "      </button>\n",
              "      \n",
              "  <style>\n",
              "    .colab-df-container {\n",
              "      display:flex;\n",
              "      flex-wrap:wrap;\n",
              "      gap: 12px;\n",
              "    }\n",
              "\n",
              "    .colab-df-convert {\n",
              "      background-color: #E8F0FE;\n",
              "      border: none;\n",
              "      border-radius: 50%;\n",
              "      cursor: pointer;\n",
              "      display: none;\n",
              "      fill: #1967D2;\n",
              "      height: 32px;\n",
              "      padding: 0 0 0 0;\n",
              "      width: 32px;\n",
              "    }\n",
              "\n",
              "    .colab-df-convert:hover {\n",
              "      background-color: #E2EBFA;\n",
              "      box-shadow: 0px 1px 2px rgba(60, 64, 67, 0.3), 0px 1px 3px 1px rgba(60, 64, 67, 0.15);\n",
              "      fill: #174EA6;\n",
              "    }\n",
              "\n",
              "    [theme=dark] .colab-df-convert {\n",
              "      background-color: #3B4455;\n",
              "      fill: #D2E3FC;\n",
              "    }\n",
              "\n",
              "    [theme=dark] .colab-df-convert:hover {\n",
              "      background-color: #434B5C;\n",
              "      box-shadow: 0px 1px 3px 1px rgba(0, 0, 0, 0.15);\n",
              "      filter: drop-shadow(0px 1px 2px rgba(0, 0, 0, 0.3));\n",
              "      fill: #FFFFFF;\n",
              "    }\n",
              "  </style>\n",
              "\n",
              "      <script>\n",
              "        const buttonEl =\n",
              "          document.querySelector('#df-b354a729-1c22-4dc5-850c-3c5176695789 button.colab-df-convert');\n",
              "        buttonEl.style.display =\n",
              "          google.colab.kernel.accessAllowed ? 'block' : 'none';\n",
              "\n",
              "        async function convertToInteractive(key) {\n",
              "          const element = document.querySelector('#df-b354a729-1c22-4dc5-850c-3c5176695789');\n",
              "          const dataTable =\n",
              "            await google.colab.kernel.invokeFunction('convertToInteractive',\n",
              "                                                     [key], {});\n",
              "          if (!dataTable) return;\n",
              "\n",
              "          const docLinkHtml = 'Like what you see? Visit the ' +\n",
              "            '<a target=\"_blank\" href=https://colab.research.google.com/notebooks/data_table.ipynb>data table notebook</a>'\n",
              "            + ' to learn more about interactive tables.';\n",
              "          element.innerHTML = '';\n",
              "          dataTable['output_type'] = 'display_data';\n",
              "          await google.colab.output.renderOutput(dataTable, element);\n",
              "          const docLink = document.createElement('div');\n",
              "          docLink.innerHTML = docLinkHtml;\n",
              "          element.appendChild(docLink);\n",
              "        }\n",
              "      </script>\n",
              "    </div>\n",
              "  </div>\n",
              "  "
            ]
          },
          "metadata": {},
          "execution_count": 30
        }
      ]
    },
    {
      "cell_type": "code",
      "source": [
        "# Generate the predictions\n",
        "submission = exported_pipeline.predict(df_test)\n"
      ],
      "metadata": {
        "id": "ToLcsvmqo91q"
      },
      "execution_count": null,
      "outputs": []
    },
    {
      "cell_type": "code",
      "source": [
        "df_test['diagnosis'] = submission\n"
      ],
      "metadata": {
        "id": "_VK9mBhBpCWh"
      },
      "execution_count": null,
      "outputs": []
    },
    {
      "cell_type": "code",
      "source": [
        "df_test.to_csv('Predict_Diagnosis.csv', index=False)"
      ],
      "metadata": {
        "id": "MeoLOE8ipyMu"
      },
      "execution_count": null,
      "outputs": []
    },
    {
      "cell_type": "markdown",
      "source": [
        "## EKSPERIMEN\n"
      ],
      "metadata": {
        "id": "-rDfeoZBk35u"
      }
    },
    {
      "cell_type": "code",
      "source": [
        "#Balancing Class With SMOTE\n",
        "from imblearn.over_sampling import SMOTE\n",
        "from imblearn.pipeline import Pipeline"
      ],
      "metadata": {
        "id": "ANq3XRb5r30w"
      },
      "execution_count": null,
      "outputs": []
    },
    {
      "cell_type": "code",
      "source": [
        "# define pipeline\n",
        "steps = [('over', SMOTE()), ('model', GradientBoostingClassifier(learning_rate=0.5, max_depth=6, max_features=0.4, min_samples_leaf=5, min_samples_split=15, n_estimators=100, subsample=0.7000000000000001))]\n",
        "pipeline = Pipeline(steps=steps)\n",
        "\n",
        "pipeline.fit(training_features, training_target)\n",
        "results_exp = pipeline.predict(testing_features)\n"
      ],
      "metadata": {
        "id": "Mcfyv7YPvFez"
      },
      "execution_count": null,
      "outputs": []
    },
    {
      "cell_type": "code",
      "source": [
        "print(\"Confusion Matrix:\")\n",
        "print(confusion_matrix(testing_target, results_exp))"
      ],
      "metadata": {
        "id": "owYBOYWsvJ5J",
        "colab": {
          "base_uri": "https://localhost:8080/"
        },
        "outputId": "5e153494-d519-4378-e501-d03bdcd87c04"
      },
      "execution_count": null,
      "outputs": [
        {
          "output_type": "stream",
          "name": "stdout",
          "text": [
            "Confusion Matrix:\n",
            "[[76  1]\n",
            " [ 2 37]]\n"
          ]
        }
      ]
    },
    {
      "cell_type": "code",
      "source": [
        "print(\"Classification Report\")\n",
        "print(classification_report(testing_target, results))"
      ],
      "metadata": {
        "id": "kOvuUVp14YyI",
        "colab": {
          "base_uri": "https://localhost:8080/"
        },
        "outputId": "c03a3270-e94f-4a69-a5f0-36fa67be8933"
      },
      "execution_count": null,
      "outputs": [
        {
          "output_type": "stream",
          "name": "stdout",
          "text": [
            "Classification Report\n",
            "              precision    recall  f1-score   support\n",
            "\n",
            "           0       0.96      0.99      0.97        77\n",
            "           1       0.97      0.92      0.95        39\n",
            "\n",
            "    accuracy                           0.97       116\n",
            "   macro avg       0.97      0.96      0.96       116\n",
            "weighted avg       0.97      0.97      0.97       116\n",
            "\n"
          ]
        }
      ]
    }
  ]
}